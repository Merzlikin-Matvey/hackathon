{
 "cells": [
  {
   "cell_type": "code",
   "execution_count": 1,
   "id": "initial_id",
   "metadata": {
    "collapsed": true,
    "ExecuteTime": {
     "end_time": "2024-02-24T06:17:41.913014Z",
     "start_time": "2024-02-24T06:17:41.904362Z"
    }
   },
   "outputs": [],
   "source": [
    "# Импортируем библиотеки\n",
    "import pandas as pd\n",
    "import datetime\n",
    "import matplotlib.pyplot as plt\n",
    "import seaborn as sns"
   ]
  },
  {
   "cell_type": "code",
   "outputs": [],
   "source": [
    "# Считываем данные из файла\n",
    "df = pd.read_excel('data.xlsx')"
   ],
   "metadata": {
    "collapsed": false,
    "ExecuteTime": {
     "end_time": "2024-02-24T06:17:43.588699Z",
     "start_time": "2024-02-24T06:17:41.917023Z"
    }
   },
   "id": "344dcdd72c7f090d",
   "execution_count": 2
  },
  {
   "cell_type": "code",
   "outputs": [],
   "source": [
    "# Отсортируем данные по именам\n",
    "df = df.sort_values(by='merchant_name')"
   ],
   "metadata": {
    "collapsed": false,
    "ExecuteTime": {
     "end_time": "2024-02-24T06:17:43.609376Z",
     "start_time": "2024-02-24T06:17:43.589707Z"
    }
   },
   "id": "d38f6bbb262a6903",
   "execution_count": 3
  },
  {
   "cell_type": "code",
   "outputs": [
    {
     "data": {
      "text/plain": "      merchant_name                  day  cashback\n10123        #SEKTA  2022-05-18 00:00:00    385.96\n8361         #SEKTA  2022-04-29 00:00:00    252.85\n8360         #SEKTA  2022-04-28 00:00:00    178.91\n8359         #SEKTA  2022-04-27 00:00:00    158.98\n8358         #SEKTA  2022-04-26 00:00:00    179.30\n...             ...                  ...       ...\n2        1С Интерес  2022-01-23 00:00:00    385.44\n3        1С Интерес  2022-01-24 00:00:00    209.48\n4        1С Интерес  2022-01-25 00:00:00    361.80\n5        1С Интерес  2022-01-26 00:00:00    380.77\n6        1С Интерес  2022-01-27 00:00:00   2163.35\n\n[200 rows x 3 columns]",
      "text/html": "<div>\n<style scoped>\n    .dataframe tbody tr th:only-of-type {\n        vertical-align: middle;\n    }\n\n    .dataframe tbody tr th {\n        vertical-align: top;\n    }\n\n    .dataframe thead th {\n        text-align: right;\n    }\n</style>\n<table border=\"1\" class=\"dataframe\">\n  <thead>\n    <tr style=\"text-align: right;\">\n      <th></th>\n      <th>merchant_name</th>\n      <th>day</th>\n      <th>cashback</th>\n    </tr>\n  </thead>\n  <tbody>\n    <tr>\n      <th>10123</th>\n      <td>#SEKTA</td>\n      <td>2022-05-18 00:00:00</td>\n      <td>385.96</td>\n    </tr>\n    <tr>\n      <th>8361</th>\n      <td>#SEKTA</td>\n      <td>2022-04-29 00:00:00</td>\n      <td>252.85</td>\n    </tr>\n    <tr>\n      <th>8360</th>\n      <td>#SEKTA</td>\n      <td>2022-04-28 00:00:00</td>\n      <td>178.91</td>\n    </tr>\n    <tr>\n      <th>8359</th>\n      <td>#SEKTA</td>\n      <td>2022-04-27 00:00:00</td>\n      <td>158.98</td>\n    </tr>\n    <tr>\n      <th>8358</th>\n      <td>#SEKTA</td>\n      <td>2022-04-26 00:00:00</td>\n      <td>179.30</td>\n    </tr>\n    <tr>\n      <th>...</th>\n      <td>...</td>\n      <td>...</td>\n      <td>...</td>\n    </tr>\n    <tr>\n      <th>2</th>\n      <td>1С Интерес</td>\n      <td>2022-01-23 00:00:00</td>\n      <td>385.44</td>\n    </tr>\n    <tr>\n      <th>3</th>\n      <td>1С Интерес</td>\n      <td>2022-01-24 00:00:00</td>\n      <td>209.48</td>\n    </tr>\n    <tr>\n      <th>4</th>\n      <td>1С Интерес</td>\n      <td>2022-01-25 00:00:00</td>\n      <td>361.80</td>\n    </tr>\n    <tr>\n      <th>5</th>\n      <td>1С Интерес</td>\n      <td>2022-01-26 00:00:00</td>\n      <td>380.77</td>\n    </tr>\n    <tr>\n      <th>6</th>\n      <td>1С Интерес</td>\n      <td>2022-01-27 00:00:00</td>\n      <td>2163.35</td>\n    </tr>\n  </tbody>\n</table>\n<p>200 rows × 3 columns</p>\n</div>"
     },
     "execution_count": 4,
     "metadata": {},
     "output_type": "execute_result"
    }
   ],
   "source": [
    "# Удаляем месяц, так как он не несет никакой информации\n",
    "df = df.drop('month', axis=1)\n",
    "\n",
    "# Удалим строки с merchant_name, которое встречается меньше 5 раз в df\n",
    "df = df.groupby('merchant_name').filter(lambda x : len(x) > 5)\n",
    "df.head(200)"
   ],
   "metadata": {
    "collapsed": false,
    "ExecuteTime": {
     "end_time": "2024-02-24T06:17:43.653111Z",
     "start_time": "2024-02-24T06:17:43.612393Z"
    }
   },
   "id": "441bc5df278dd588",
   "execution_count": 4
  },
  {
   "cell_type": "code",
   "outputs": [],
   "source": [
    "# Получает на вход год, месяц, день и возвращает день недели в виде его номера\n",
    "def get_weekday(year, month, day):\n",
    "    return datetime.date(year, month, day).weekday()\n",
    "\n",
    "# Получает на вход строку вида \"YYYY-MM-DD hh:mm:ss\" и возвращает year, month, day\n",
    "def get_date(date_string):\n",
    "    date = str(date_string).split(' ')[0]\n",
    "    year, month, day = map(int, date.split('-'))\n",
    "    return month, day\n",
    "\n",
    "# Переведем столбец day формата \"YYYY-MM-DD hh:mm:ss\" в столбец с результатом get_date\n",
    "df['day'] = df['day'].apply(lambda x : '.'.join(list(map(str, get_date(x)))))\n",
    "df['weekday'] = df['day'].apply(lambda x : get_weekday(2022, *map(int, x.split('.'))))\n",
    "df['is_weekend'] = df['weekday'].apply(lambda x : 1 if x in [5, 6] else 0)"
   ],
   "metadata": {
    "collapsed": false,
    "ExecuteTime": {
     "end_time": "2024-02-24T06:17:43.758973Z",
     "start_time": "2024-02-24T06:17:43.656119Z"
    }
   },
   "id": "f71c7efde41bb228",
   "execution_count": 5
  },
  {
   "cell_type": "code",
   "outputs": [
    {
     "data": {
      "text/plain": "\"\\nfor merchant_name in df['merchant_name'].unique():\\n    sns.lineplot(data=df[df['merchant_name'] == merchant_name], x='day', y='cashback')\\n    plt.title(merchant_name)\\n    plt.savefig(f'graphs/{merchant_name.replace('*', ' ')}.png')\\n    plt.close()\\n\""
     },
     "execution_count": 6,
     "metadata": {},
     "output_type": "execute_result"
    }
   ],
   "source": [
    "# Для каждого значения merchant_name построим график cashback\n",
    "'''\n",
    "for merchant_name in df['merchant_name'].unique():\n",
    "    sns.lineplot(data=df[df['merchant_name'] == merchant_name], x='day', y='cashback')\n",
    "    plt.title(merchant_name)\n",
    "    plt.savefig(f'graphs/{merchant_name.replace('*', ' ')}.png')\n",
    "    plt.close()\n",
    "'''"
   ],
   "metadata": {
    "collapsed": false,
    "ExecuteTime": {
     "end_time": "2024-02-24T06:17:43.767411Z",
     "start_time": "2024-02-24T06:17:43.760996Z"
    }
   },
   "id": "13f0cfcdf6474641",
   "execution_count": 6
  },
  {
   "cell_type": "code",
   "outputs": [],
   "source": [
    "# Сохраним df как clear_data.xlsx\n",
    "df.to_excel('clear_data.xlsx', index=False) "
   ],
   "metadata": {
    "collapsed": false,
    "ExecuteTime": {
     "end_time": "2024-02-24T06:17:47.265786Z",
     "start_time": "2024-02-24T06:17:43.769137Z"
    }
   },
   "id": "4e9ea32bb9aa5ec2",
   "execution_count": 7
  },
  {
   "cell_type": "code",
   "outputs": [
    {
     "data": {
      "text/plain": "      merchant_name   day  cashback  weekday  is_weekend\n10123        #SEKTA  5.18    385.96        2           0\n8361         #SEKTA  4.29    252.85        4           0\n8360         #SEKTA  4.28    178.91        3           0\n8359         #SEKTA  4.27    158.98        2           0\n8358         #SEKTA  4.26    179.30        1           0\n...             ...   ...       ...      ...         ...\n7603     1С Интерес  4.14    898.81        3           0\n7612     1С Интерес  4.23   1223.56        5           1\n7611     1С Интерес  4.22   1020.26        4           0\n7610     1С Интерес  4.21   1031.75        3           0\n7609     1С Интерес  4.20    938.30        2           0\n\n[100 rows x 5 columns]",
      "text/html": "<div>\n<style scoped>\n    .dataframe tbody tr th:only-of-type {\n        vertical-align: middle;\n    }\n\n    .dataframe tbody tr th {\n        vertical-align: top;\n    }\n\n    .dataframe thead th {\n        text-align: right;\n    }\n</style>\n<table border=\"1\" class=\"dataframe\">\n  <thead>\n    <tr style=\"text-align: right;\">\n      <th></th>\n      <th>merchant_name</th>\n      <th>day</th>\n      <th>cashback</th>\n      <th>weekday</th>\n      <th>is_weekend</th>\n    </tr>\n  </thead>\n  <tbody>\n    <tr>\n      <th>10123</th>\n      <td>#SEKTA</td>\n      <td>5.18</td>\n      <td>385.96</td>\n      <td>2</td>\n      <td>0</td>\n    </tr>\n    <tr>\n      <th>8361</th>\n      <td>#SEKTA</td>\n      <td>4.29</td>\n      <td>252.85</td>\n      <td>4</td>\n      <td>0</td>\n    </tr>\n    <tr>\n      <th>8360</th>\n      <td>#SEKTA</td>\n      <td>4.28</td>\n      <td>178.91</td>\n      <td>3</td>\n      <td>0</td>\n    </tr>\n    <tr>\n      <th>8359</th>\n      <td>#SEKTA</td>\n      <td>4.27</td>\n      <td>158.98</td>\n      <td>2</td>\n      <td>0</td>\n    </tr>\n    <tr>\n      <th>8358</th>\n      <td>#SEKTA</td>\n      <td>4.26</td>\n      <td>179.30</td>\n      <td>1</td>\n      <td>0</td>\n    </tr>\n    <tr>\n      <th>...</th>\n      <td>...</td>\n      <td>...</td>\n      <td>...</td>\n      <td>...</td>\n      <td>...</td>\n    </tr>\n    <tr>\n      <th>7603</th>\n      <td>1С Интерес</td>\n      <td>4.14</td>\n      <td>898.81</td>\n      <td>3</td>\n      <td>0</td>\n    </tr>\n    <tr>\n      <th>7612</th>\n      <td>1С Интерес</td>\n      <td>4.23</td>\n      <td>1223.56</td>\n      <td>5</td>\n      <td>1</td>\n    </tr>\n    <tr>\n      <th>7611</th>\n      <td>1С Интерес</td>\n      <td>4.22</td>\n      <td>1020.26</td>\n      <td>4</td>\n      <td>0</td>\n    </tr>\n    <tr>\n      <th>7610</th>\n      <td>1С Интерес</td>\n      <td>4.21</td>\n      <td>1031.75</td>\n      <td>3</td>\n      <td>0</td>\n    </tr>\n    <tr>\n      <th>7609</th>\n      <td>1С Интерес</td>\n      <td>4.20</td>\n      <td>938.30</td>\n      <td>2</td>\n      <td>0</td>\n    </tr>\n  </tbody>\n</table>\n<p>100 rows × 5 columns</p>\n</div>"
     },
     "execution_count": 8,
     "metadata": {},
     "output_type": "execute_result"
    }
   ],
   "source": [
    "df.head(100)"
   ],
   "metadata": {
    "collapsed": false,
    "ExecuteTime": {
     "end_time": "2024-02-24T06:17:47.282618Z",
     "start_time": "2024-02-24T06:17:47.267326Z"
    }
   },
   "id": "69d765c6c9ded278",
   "execution_count": 8
  },
  {
   "cell_type": "code",
   "outputs": [],
   "source": [],
   "metadata": {
    "collapsed": false,
    "ExecuteTime": {
     "end_time": "2024-02-24T06:17:47.290930Z",
     "start_time": "2024-02-24T06:17:47.283648Z"
    }
   },
   "id": "73c1882a765134d2",
   "execution_count": 8
  }
 ],
 "metadata": {
  "kernelspec": {
   "display_name": "Python 3",
   "language": "python",
   "name": "python3"
  },
  "language_info": {
   "codemirror_mode": {
    "name": "ipython",
    "version": 2
   },
   "file_extension": ".py",
   "mimetype": "text/x-python",
   "name": "python",
   "nbconvert_exporter": "python",
   "pygments_lexer": "ipython2",
   "version": "2.7.6"
  }
 },
 "nbformat": 4,
 "nbformat_minor": 5
}
