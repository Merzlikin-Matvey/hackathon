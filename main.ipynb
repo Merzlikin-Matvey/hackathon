{
 "cells": [
  {
   "cell_type": "code",
   "execution_count": 292,
   "id": "initial_id",
   "metadata": {
    "collapsed": true,
    "ExecuteTime": {
     "end_time": "2024-02-24T08:10:57.304531Z",
     "start_time": "2024-02-24T08:10:57.294846Z"
    }
   },
   "outputs": [],
   "source": [
    "# Импортируем библиотеки\n",
    "import pandas as pd\n",
    "import datetime\n",
    "from helpful import *\n",
    "import matplotlib.pyplot as plt\n",
    "import seaborn as sns"
   ]
  },
  {
   "cell_type": "code",
   "outputs": [],
   "source": [
    "# Считываем данные из файла\n",
    "df = pd.read_excel('data.xlsx')"
   ],
   "metadata": {
    "collapsed": false,
    "ExecuteTime": {
     "end_time": "2024-02-24T08:10:58.670323Z",
     "start_time": "2024-02-24T08:10:57.307219Z"
    }
   },
   "id": "344dcdd72c7f090d",
   "execution_count": 293
  },
  {
   "cell_type": "code",
   "outputs": [],
   "source": [
    "# Отсортируем данные по именам и возрастании даты\n",
    "df = df.sort_values(by=['merchant_name', 'day'])"
   ],
   "metadata": {
    "collapsed": false,
    "ExecuteTime": {
     "end_time": "2024-02-24T08:10:58.697793Z",
     "start_time": "2024-02-24T08:10:58.675341Z"
    }
   },
   "id": "d38f6bbb262a6903",
   "execution_count": 294
  },
  {
   "cell_type": "code",
   "outputs": [
    {
     "data": {
      "text/plain": "     merchant_name                  day  cashback\n8350        #SEKTA  2022-04-18 00:00:00    347.49\n8351        #SEKTA  2022-04-19 00:00:00    366.19\n8352        #SEKTA  2022-04-20 00:00:00    142.50\n8353        #SEKTA  2022-04-21 00:00:00    222.66\n8354        #SEKTA  2022-04-22 00:00:00     90.23\n...            ...                  ...       ...\n9398    1С Интерес  2022-05-12 00:00:00    822.69\n9399    1С Интерес  2022-05-13 00:00:00    693.33\n9400    1С Интерес  2022-05-14 00:00:00   1419.64\n9401    1С Интерес  2022-05-15 00:00:00    770.77\n9402    1С Интерес  2022-05-16 00:00:00    623.26\n\n[200 rows x 3 columns]",
      "text/html": "<div>\n<style scoped>\n    .dataframe tbody tr th:only-of-type {\n        vertical-align: middle;\n    }\n\n    .dataframe tbody tr th {\n        vertical-align: top;\n    }\n\n    .dataframe thead th {\n        text-align: right;\n    }\n</style>\n<table border=\"1\" class=\"dataframe\">\n  <thead>\n    <tr style=\"text-align: right;\">\n      <th></th>\n      <th>merchant_name</th>\n      <th>day</th>\n      <th>cashback</th>\n    </tr>\n  </thead>\n  <tbody>\n    <tr>\n      <th>8350</th>\n      <td>#SEKTA</td>\n      <td>2022-04-18 00:00:00</td>\n      <td>347.49</td>\n    </tr>\n    <tr>\n      <th>8351</th>\n      <td>#SEKTA</td>\n      <td>2022-04-19 00:00:00</td>\n      <td>366.19</td>\n    </tr>\n    <tr>\n      <th>8352</th>\n      <td>#SEKTA</td>\n      <td>2022-04-20 00:00:00</td>\n      <td>142.50</td>\n    </tr>\n    <tr>\n      <th>8353</th>\n      <td>#SEKTA</td>\n      <td>2022-04-21 00:00:00</td>\n      <td>222.66</td>\n    </tr>\n    <tr>\n      <th>8354</th>\n      <td>#SEKTA</td>\n      <td>2022-04-22 00:00:00</td>\n      <td>90.23</td>\n    </tr>\n    <tr>\n      <th>...</th>\n      <td>...</td>\n      <td>...</td>\n      <td>...</td>\n    </tr>\n    <tr>\n      <th>9398</th>\n      <td>1С Интерес</td>\n      <td>2022-05-12 00:00:00</td>\n      <td>822.69</td>\n    </tr>\n    <tr>\n      <th>9399</th>\n      <td>1С Интерес</td>\n      <td>2022-05-13 00:00:00</td>\n      <td>693.33</td>\n    </tr>\n    <tr>\n      <th>9400</th>\n      <td>1С Интерес</td>\n      <td>2022-05-14 00:00:00</td>\n      <td>1419.64</td>\n    </tr>\n    <tr>\n      <th>9401</th>\n      <td>1С Интерес</td>\n      <td>2022-05-15 00:00:00</td>\n      <td>770.77</td>\n    </tr>\n    <tr>\n      <th>9402</th>\n      <td>1С Интерес</td>\n      <td>2022-05-16 00:00:00</td>\n      <td>623.26</td>\n    </tr>\n  </tbody>\n</table>\n<p>200 rows × 3 columns</p>\n</div>"
     },
     "execution_count": 295,
     "metadata": {},
     "output_type": "execute_result"
    }
   ],
   "source": [
    "# Удаляем месяц, так как он не несет никакой информации\n",
    "df = df.drop('month', axis=1)\n",
    "\n",
    "# Удалим строки с merchant_name, которое встречается меньше 6 раз в df\n",
    "df = df.groupby('merchant_name').filter(lambda x : len(x) > 5)\n",
    "df.head(200)"
   ],
   "metadata": {
    "collapsed": false,
    "ExecuteTime": {
     "end_time": "2024-02-24T08:10:58.774382Z",
     "start_time": "2024-02-24T08:10:58.701142Z"
    }
   },
   "id": "441bc5df278dd588",
   "execution_count": 295
  },
  {
   "cell_type": "code",
   "outputs": [],
   "source": [
    "# Переведем столбец day формата \"YYYY-MM-DD hh:mm:ss\" в столбец с результатом get_date\n",
    "df['day'] = df['day'].apply(get_date)\n",
    "df['weekday'] = df['day'].apply(get_weekday)\n",
    "df['is_weekend'] = df['weekday'].apply(lambda x : 1 if x in [5, 6] else 0)"
   ],
   "metadata": {
    "collapsed": false,
    "ExecuteTime": {
     "end_time": "2024-02-24T08:10:58.843192Z",
     "start_time": "2024-02-24T08:10:58.778393Z"
    }
   },
   "id": "f71c7efde41bb228",
   "execution_count": 296
  },
  {
   "cell_type": "code",
   "outputs": [],
   "source": [
    "# Заполним пропуски в столбце cashback средним значением\n",
    "df['cashback'] = df['cashback'].fillna(df['cashback'].mean())\n",
    "\n",
    "# Если между двумя строками разница 2 дня, то добавим строку между ними с пропущенными значениями\n",
    "for i in range(len(df) - 1):\n",
    "    if get_days_diff(df.iloc[i]['day'], df.iloc[i + 1]['day']) == 2:\n",
    "        df = df._append({\n",
    "            'merchant_name' : df.iloc[i]['merchant_name'], \n",
    "            'day' : get_next_day(df.iloc[i]['day']),\n",
    "            'cashback' : (df.iloc[i]['cashback'] + df.iloc[i + 1]['cashback']) / 2, \n",
    "            'weekday' : get_weekday(get_next_day(df.iloc[i]['day'])),\n",
    "            'is_weekend' : 1 if get_weekday(get_next_day(df.iloc[i]['day'])) in [5, 6] else 0},\n",
    "            ignore_index=True)\n",
    "\n",
    "# Отсортируем данные по именам и возрастании даты\n",
    "df = df.sort_values(by=['merchant_name', 'day'])"
   ],
   "metadata": {
    "collapsed": false,
    "ExecuteTime": {
     "end_time": "2024-02-24T08:11:03.519509Z",
     "start_time": "2024-02-24T08:10:58.845201Z"
    }
   },
   "id": "6b469953cbc469e9",
   "execution_count": 297
  },
  {
   "cell_type": "code",
   "outputs": [
    {
     "data": {
      "text/plain": "\"\\nfor merchant_name in df['merchant_name'].unique():\\n    sns.lineplot(data=df[df['merchant_name'] == merchant_name], x='day', y='cashback')\\n    plt.title(merchant_name)\\n    plt.savefig(f'graphs/{merchant_name.replace('*', ' ')}.png')\\n    plt.close()\\n\""
     },
     "execution_count": 298,
     "metadata": {},
     "output_type": "execute_result"
    }
   ],
   "source": [
    "# Для каждого значения merchant_name построим график cashback\n",
    "'''\n",
    "for merchant_name in df['merchant_name'].unique():\n",
    "    sns.lineplot(data=df[df['merchant_name'] == merchant_name], x='day', y='cashback')\n",
    "    plt.title(merchant_name)\n",
    "    plt.savefig(f'graphs/{merchant_name.replace('*', ' ')}.png')\n",
    "    plt.close()\n",
    "'''"
   ],
   "metadata": {
    "collapsed": false,
    "ExecuteTime": {
     "end_time": "2024-02-24T08:11:03.535593Z",
     "start_time": "2024-02-24T08:11:03.521527Z"
    }
   },
   "id": "13f0cfcdf6474641",
   "execution_count": 298
  },
  {
   "cell_type": "code",
   "outputs": [],
   "source": [
    "# Сохраним df как clear_data.xlsx\n",
    "'''\n",
    "df.to_excel('clear_data.xlsx', index=False) \n",
    "'''"
   ],
   "metadata": {
    "collapsed": false,
    "ExecuteTime": {
     "end_time": "2024-02-24T08:11:07.912513Z",
     "start_time": "2024-02-24T08:11:03.566606Z"
    }
   },
   "id": "4e9ea32bb9aa5ec2",
   "execution_count": 299
  },
  {
   "cell_type": "code",
   "outputs": [
    {
     "data": {
      "text/plain": "                    merchant_name         day  cashback  weekday  is_weekend\n0                          #SEKTA  2022-04-18    347.49        0           0\n1                          #SEKTA  2022-04-19    366.19        1           0\n2                          #SEKTA  2022-04-20    142.50        2           0\n3                          #SEKTA  2022-04-21    222.66        3           0\n4                          #SEKTA  2022-04-22     90.23        4           0\n...                           ...         ...       ...      ...         ...\n27401  интернет-магазин Технопарк  2022-07-27  26123.62        2           0\n27402  интернет-магазин Технопарк  2022-07-28  25921.13        3           0\n27403  интернет-магазин Технопарк  2022-07-29  35976.24        4           0\n27404  интернет-магазин Технопарк  2022-07-30  32105.00        5           1\n27405  интернет-магазин Технопарк  2022-07-31  30711.76        6           1\n\n[28460 rows x 5 columns]",
      "text/html": "<div>\n<style scoped>\n    .dataframe tbody tr th:only-of-type {\n        vertical-align: middle;\n    }\n\n    .dataframe tbody tr th {\n        vertical-align: top;\n    }\n\n    .dataframe thead th {\n        text-align: right;\n    }\n</style>\n<table border=\"1\" class=\"dataframe\">\n  <thead>\n    <tr style=\"text-align: right;\">\n      <th></th>\n      <th>merchant_name</th>\n      <th>day</th>\n      <th>cashback</th>\n      <th>weekday</th>\n      <th>is_weekend</th>\n    </tr>\n  </thead>\n  <tbody>\n    <tr>\n      <th>0</th>\n      <td>#SEKTA</td>\n      <td>2022-04-18</td>\n      <td>347.49</td>\n      <td>0</td>\n      <td>0</td>\n    </tr>\n    <tr>\n      <th>1</th>\n      <td>#SEKTA</td>\n      <td>2022-04-19</td>\n      <td>366.19</td>\n      <td>1</td>\n      <td>0</td>\n    </tr>\n    <tr>\n      <th>2</th>\n      <td>#SEKTA</td>\n      <td>2022-04-20</td>\n      <td>142.50</td>\n      <td>2</td>\n      <td>0</td>\n    </tr>\n    <tr>\n      <th>3</th>\n      <td>#SEKTA</td>\n      <td>2022-04-21</td>\n      <td>222.66</td>\n      <td>3</td>\n      <td>0</td>\n    </tr>\n    <tr>\n      <th>4</th>\n      <td>#SEKTA</td>\n      <td>2022-04-22</td>\n      <td>90.23</td>\n      <td>4</td>\n      <td>0</td>\n    </tr>\n    <tr>\n      <th>...</th>\n      <td>...</td>\n      <td>...</td>\n      <td>...</td>\n      <td>...</td>\n      <td>...</td>\n    </tr>\n    <tr>\n      <th>27401</th>\n      <td>интернет-магазин Технопарк</td>\n      <td>2022-07-27</td>\n      <td>26123.62</td>\n      <td>2</td>\n      <td>0</td>\n    </tr>\n    <tr>\n      <th>27402</th>\n      <td>интернет-магазин Технопарк</td>\n      <td>2022-07-28</td>\n      <td>25921.13</td>\n      <td>3</td>\n      <td>0</td>\n    </tr>\n    <tr>\n      <th>27403</th>\n      <td>интернет-магазин Технопарк</td>\n      <td>2022-07-29</td>\n      <td>35976.24</td>\n      <td>4</td>\n      <td>0</td>\n    </tr>\n    <tr>\n      <th>27404</th>\n      <td>интернет-магазин Технопарк</td>\n      <td>2022-07-30</td>\n      <td>32105.00</td>\n      <td>5</td>\n      <td>1</td>\n    </tr>\n    <tr>\n      <th>27405</th>\n      <td>интернет-магазин Технопарк</td>\n      <td>2022-07-31</td>\n      <td>30711.76</td>\n      <td>6</td>\n      <td>1</td>\n    </tr>\n  </tbody>\n</table>\n<p>28460 rows × 5 columns</p>\n</div>"
     },
     "execution_count": 300,
     "metadata": {},
     "output_type": "execute_result"
    }
   ],
   "source": [
    "df"
   ],
   "metadata": {
    "collapsed": false,
    "ExecuteTime": {
     "end_time": "2024-02-24T08:11:07.956496Z",
     "start_time": "2024-02-24T08:11:07.945543Z"
    }
   },
   "id": "69d765c6c9ded278",
   "execution_count": 300
  }
 ],
 "metadata": {
  "kernelspec": {
   "display_name": "Python 3",
   "language": "python",
   "name": "python3"
  },
  "language_info": {
   "codemirror_mode": {
    "name": "ipython",
    "version": 2
   },
   "file_extension": ".py",
   "mimetype": "text/x-python",
   "name": "python",
   "nbconvert_exporter": "python",
   "pygments_lexer": "ipython2",
   "version": "2.7.6"
  }
 },
 "nbformat": 4,
 "nbformat_minor": 5
}
