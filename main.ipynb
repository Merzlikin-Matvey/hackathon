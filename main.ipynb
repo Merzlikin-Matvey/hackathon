{
 "cells": [
  {
   "cell_type": "code",
   "outputs": [],
   "source": [
    "# Импортируем библиотеки\n",
    "import pandas as pd\n",
    "import datetime\n",
    "import os\n",
    "import warnings\n",
    "\n",
    "warnings.filterwarnings(\"ignore\")"
   ],
   "metadata": {
    "collapsed": true,
    "ExecuteTime": {
     "end_time": "2024-02-24T20:45:19.674250Z",
     "start_time": "2024-02-24T20:45:19.669914Z"
    }
   },
   "id": "initial_id",
   "execution_count": 28
  },
  {
   "cell_type": "code",
   "outputs": [],
   "source": [
    "# Считываем данные из файла\n",
    "df = pd.read_excel('data/data.xlsx')"
   ],
   "metadata": {
    "collapsed": false,
    "ExecuteTime": {
     "end_time": "2024-02-24T20:45:20.993086Z",
     "start_time": "2024-02-24T20:45:19.676274Z"
    }
   },
   "id": "344dcdd72c7f090d",
   "execution_count": 29
  },
  {
   "cell_type": "code",
   "outputs": [],
   "source": [
    "# Отсортируем данные по именам и возрастании даты\n",
    "df = df.sort_values(by=['merchant_name', 'day'])"
   ],
   "metadata": {
    "collapsed": false,
    "ExecuteTime": {
     "end_time": "2024-02-24T20:45:21.005088Z",
     "start_time": "2024-02-24T20:45:20.994087Z"
    }
   },
   "id": "d38f6bbb262a6903",
   "execution_count": 30
  },
  {
   "cell_type": "code",
   "outputs": [],
   "source": [
    "# Удаляем месяц, так как он не несет никакой информации\n",
    "df = df.drop('month', axis=1)\n",
    "\n",
    "# Удалим строки с merchant_name, которое встречается меньше 6 раз в df\n",
    "df = df.groupby('merchant_name').filter(lambda x : len(x) > 5)"
   ],
   "metadata": {
    "collapsed": false,
    "ExecuteTime": {
     "end_time": "2024-02-24T20:45:21.034244Z",
     "start_time": "2024-02-24T20:45:21.006835Z"
    }
   },
   "id": "441bc5df278dd588",
   "execution_count": 31
  },
  {
   "cell_type": "code",
   "outputs": [],
   "source": [
    "# Получает на вход дату и возвращает день недели в виде его номера\n",
    "def get_weekday(date):\n",
    "    date = datetime.date(*map(int, str(str(date).split()[0]).split('-')))\n",
    "    return date.weekday()\n",
    "\n",
    "# Функция принимает на вход 2 даты и возвращает разницу между ними в днях\n",
    "def get_days_diff(date1, date2):\n",
    "    date1 = datetime.date(*map(int, str(str(date1).split()[0]).split('-')))\n",
    "    date2 = datetime.date(*map(int, str(str(date2).split()[0]).split('-')))\n",
    "    return (date2 - date1).days\n",
    "\n",
    "# Функция принимает на вход дату и возвращает следующий день\n",
    "def get_next_day(date):\n",
    "    return date + datetime.timedelta(days=1)\n",
    "    \n",
    "\n",
    "\n",
    "# Введем новые параметры\n",
    "df['day'] = pd.to_datetime(df['day'])\n",
    "df['weekday'] = df['day'].apply(get_weekday) \n",
    "df['is_weekend'] = df['weekday'].apply(lambda x : 1 if x in [5, 6] else 0)"
   ],
   "metadata": {
    "collapsed": false,
    "ExecuteTime": {
     "end_time": "2024-02-24T20:45:21.189398Z",
     "start_time": "2024-02-24T20:45:21.035258Z"
    }
   },
   "id": "f71c7efde41bb228",
   "execution_count": 32
  },
  {
   "cell_type": "code",
   "outputs": [],
   "source": [
    "# Если между двумя строками разница 2 дня, то добавим строку между ними с пропущенными значениями\n",
    "for i in range(len(df) - 1):\n",
    "    if get_days_diff(df.iloc[i]['day'], df.iloc[i + 1]['day']) == 2:\n",
    "        df = df._append({\n",
    "            'merchant_name' : df.iloc[i]['merchant_name'], \n",
    "            'day' : get_next_day(df.iloc[i]['day']),\n",
    "            'cashback' : (df.iloc[i]['cashback'] + df.iloc[i + 1]['cashback']) / 2, \n",
    "            'weekday' : get_weekday(get_next_day(df.iloc[i]['day'])),\n",
    "            'is_weekend' : 1 if get_weekday(get_next_day(df.iloc[i]['day'])) in [5, 6] else 0},\n",
    "            ignore_index=True)\n",
    "\n",
    "# Отсортируем данные по именам и возрастании даты\n",
    "df = df.sort_values(by=['merchant_name', 'day'])"
   ],
   "metadata": {
    "collapsed": false,
    "ExecuteTime": {
     "end_time": "2024-02-24T20:45:27.167139Z",
     "start_time": "2024-02-24T20:45:21.190410Z"
    }
   },
   "id": "6b469953cbc469e9",
   "execution_count": 33
  },
  {
   "cell_type": "code",
   "outputs": [],
   "source": [
    "# Сохраняем обработанные данные\n",
    "file_path = 'data/clear_data.xlsx'\n",
    "if os.path.exists(file_path):\n",
    "    try:\n",
    "        os.remove(file_path)  # Удаляем файл, если он существует\n",
    "        df.to_excel(file_path, index=False)\n",
    "    except PermissionError:\n",
    "        print('Закройте файл clear_data.xlsx')\n",
    "else:\n",
    "    df.to_excel(file_path, index=False)\n"
   ],
   "metadata": {
    "collapsed": false,
    "ExecuteTime": {
     "end_time": "2024-02-24T20:45:31.303447Z",
     "start_time": "2024-02-24T20:45:27.168138Z"
    }
   },
   "id": "4e9ea32bb9aa5ec2",
   "execution_count": 34
  },
  {
   "cell_type": "code",
   "outputs": [],
   "source": [],
   "metadata": {
    "collapsed": false,
    "ExecuteTime": {
     "end_time": "2024-02-24T20:45:31.306725Z",
     "start_time": "2024-02-24T20:45:31.304445Z"
    }
   },
   "id": "6b897cd1e4b45c7d",
   "execution_count": 34
  }
 ],
 "metadata": {
  "kernelspec": {
   "display_name": "Python 3",
   "language": "python",
   "name": "python3"
  },
  "language_info": {
   "codemirror_mode": {
    "name": "ipython",
    "version": 2
   },
   "file_extension": ".py",
   "mimetype": "text/x-python",
   "name": "python",
   "nbconvert_exporter": "python",
   "pygments_lexer": "ipython2",
   "version": "2.7.6"
  }
 },
 "nbformat": 4,
 "nbformat_minor": 5
}
