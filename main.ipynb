{
 "cells": [
  {
   "cell_type": "code",
   "execution_count": 56,
   "id": "initial_id",
   "metadata": {
    "collapsed": true,
    "ExecuteTime": {
     "end_time": "2024-02-23T20:07:08.151590Z",
     "start_time": "2024-02-23T20:07:08.148670Z"
    }
   },
   "outputs": [],
   "source": [
    "import pandas as pd\n",
    "import datetime"
   ]
  },
  {
   "cell_type": "code",
   "outputs": [],
   "source": [
    "df = pd.read_excel('data.xlsx')"
   ],
   "metadata": {
    "collapsed": false,
    "ExecuteTime": {
     "end_time": "2024-02-23T20:07:09.626076Z",
     "start_time": "2024-02-23T20:07:08.163604Z"
    }
   },
   "id": "344dcdd72c7f090d",
   "execution_count": 57
  },
  {
   "cell_type": "code",
   "outputs": [],
   "source": [
    "df = df.drop('month', axis=1)"
   ],
   "metadata": {
    "collapsed": false,
    "ExecuteTime": {
     "end_time": "2024-02-23T20:07:09.632955Z",
     "start_time": "2024-02-23T20:07:09.628086Z"
    }
   },
   "id": "441bc5df278dd588",
   "execution_count": 58
  },
  {
   "cell_type": "code",
   "outputs": [
    {
     "data": {
      "text/plain": "  merchant_name                  day  cashback\n0    1С Интерес  2022-01-21 00:00:00    240.53\n1    1С Интерес  2022-01-22 00:00:00    399.21\n2    1С Интерес  2022-01-23 00:00:00    385.44\n3    1С Интерес  2022-01-24 00:00:00    209.48\n4    1С Интерес  2022-01-25 00:00:00    361.80\n5    1С Интерес  2022-01-26 00:00:00    380.77\n6    1С Интерес  2022-01-27 00:00:00   2163.35\n7    1С Интерес  2022-01-28 00:00:00   1053.93\n8    1С Интерес  2022-01-29 00:00:00    534.87\n9    1С Интерес  2022-01-30 00:00:00    458.59",
      "text/html": "<div>\n<style scoped>\n    .dataframe tbody tr th:only-of-type {\n        vertical-align: middle;\n    }\n\n    .dataframe tbody tr th {\n        vertical-align: top;\n    }\n\n    .dataframe thead th {\n        text-align: right;\n    }\n</style>\n<table border=\"1\" class=\"dataframe\">\n  <thead>\n    <tr style=\"text-align: right;\">\n      <th></th>\n      <th>merchant_name</th>\n      <th>day</th>\n      <th>cashback</th>\n    </tr>\n  </thead>\n  <tbody>\n    <tr>\n      <th>0</th>\n      <td>1С Интерес</td>\n      <td>2022-01-21 00:00:00</td>\n      <td>240.53</td>\n    </tr>\n    <tr>\n      <th>1</th>\n      <td>1С Интерес</td>\n      <td>2022-01-22 00:00:00</td>\n      <td>399.21</td>\n    </tr>\n    <tr>\n      <th>2</th>\n      <td>1С Интерес</td>\n      <td>2022-01-23 00:00:00</td>\n      <td>385.44</td>\n    </tr>\n    <tr>\n      <th>3</th>\n      <td>1С Интерес</td>\n      <td>2022-01-24 00:00:00</td>\n      <td>209.48</td>\n    </tr>\n    <tr>\n      <th>4</th>\n      <td>1С Интерес</td>\n      <td>2022-01-25 00:00:00</td>\n      <td>361.80</td>\n    </tr>\n    <tr>\n      <th>5</th>\n      <td>1С Интерес</td>\n      <td>2022-01-26 00:00:00</td>\n      <td>380.77</td>\n    </tr>\n    <tr>\n      <th>6</th>\n      <td>1С Интерес</td>\n      <td>2022-01-27 00:00:00</td>\n      <td>2163.35</td>\n    </tr>\n    <tr>\n      <th>7</th>\n      <td>1С Интерес</td>\n      <td>2022-01-28 00:00:00</td>\n      <td>1053.93</td>\n    </tr>\n    <tr>\n      <th>8</th>\n      <td>1С Интерес</td>\n      <td>2022-01-29 00:00:00</td>\n      <td>534.87</td>\n    </tr>\n    <tr>\n      <th>9</th>\n      <td>1С Интерес</td>\n      <td>2022-01-30 00:00:00</td>\n      <td>458.59</td>\n    </tr>\n  </tbody>\n</table>\n</div>"
     },
     "execution_count": 59,
     "metadata": {},
     "output_type": "execute_result"
    }
   ],
   "source": [
    "df.head(10)"
   ],
   "metadata": {
    "collapsed": false,
    "ExecuteTime": {
     "end_time": "2024-02-23T20:07:09.642782Z",
     "start_time": "2024-02-23T20:07:09.633970Z"
    }
   },
   "id": "e97df650a0b2b4e0",
   "execution_count": 59
  },
  {
   "cell_type": "code",
   "outputs": [
    {
     "data": {
      "text/plain": "            merchant_name        day  cashback  weekday  is_weekend\n0              1С Интерес  2022 1 21    240.53        4           0\n1              1С Интерес  2022 1 22    399.21        5           1\n2              1С Интерес  2022 1 23    385.44        6           1\n3              1С Интерес  2022 1 24    209.48        0           0\n4              1С Интерес  2022 1 25    361.80        1           0\n...                   ...        ...       ...      ...         ...\n27537  Яндекс.Еда и Лавка  2023 1 27  13950.84        4           0\n27538  Яндекс.Еда и Лавка  2023 1 28  17400.74        5           1\n27539  Яндекс.Еда и Лавка  2023 1 29  13286.25        6           1\n27540  Яндекс.Еда и Лавка  2023 1 30   8075.79        0           0\n27541  Яндекс.Еда и Лавка  2023 1 31   8169.34        1           0\n\n[27542 rows x 5 columns]",
      "text/html": "<div>\n<style scoped>\n    .dataframe tbody tr th:only-of-type {\n        vertical-align: middle;\n    }\n\n    .dataframe tbody tr th {\n        vertical-align: top;\n    }\n\n    .dataframe thead th {\n        text-align: right;\n    }\n</style>\n<table border=\"1\" class=\"dataframe\">\n  <thead>\n    <tr style=\"text-align: right;\">\n      <th></th>\n      <th>merchant_name</th>\n      <th>day</th>\n      <th>cashback</th>\n      <th>weekday</th>\n      <th>is_weekend</th>\n    </tr>\n  </thead>\n  <tbody>\n    <tr>\n      <th>0</th>\n      <td>1С Интерес</td>\n      <td>2022 1 21</td>\n      <td>240.53</td>\n      <td>4</td>\n      <td>0</td>\n    </tr>\n    <tr>\n      <th>1</th>\n      <td>1С Интерес</td>\n      <td>2022 1 22</td>\n      <td>399.21</td>\n      <td>5</td>\n      <td>1</td>\n    </tr>\n    <tr>\n      <th>2</th>\n      <td>1С Интерес</td>\n      <td>2022 1 23</td>\n      <td>385.44</td>\n      <td>6</td>\n      <td>1</td>\n    </tr>\n    <tr>\n      <th>3</th>\n      <td>1С Интерес</td>\n      <td>2022 1 24</td>\n      <td>209.48</td>\n      <td>0</td>\n      <td>0</td>\n    </tr>\n    <tr>\n      <th>4</th>\n      <td>1С Интерес</td>\n      <td>2022 1 25</td>\n      <td>361.80</td>\n      <td>1</td>\n      <td>0</td>\n    </tr>\n    <tr>\n      <th>...</th>\n      <td>...</td>\n      <td>...</td>\n      <td>...</td>\n      <td>...</td>\n      <td>...</td>\n    </tr>\n    <tr>\n      <th>27537</th>\n      <td>Яндекс.Еда и Лавка</td>\n      <td>2023 1 27</td>\n      <td>13950.84</td>\n      <td>4</td>\n      <td>0</td>\n    </tr>\n    <tr>\n      <th>27538</th>\n      <td>Яндекс.Еда и Лавка</td>\n      <td>2023 1 28</td>\n      <td>17400.74</td>\n      <td>5</td>\n      <td>1</td>\n    </tr>\n    <tr>\n      <th>27539</th>\n      <td>Яндекс.Еда и Лавка</td>\n      <td>2023 1 29</td>\n      <td>13286.25</td>\n      <td>6</td>\n      <td>1</td>\n    </tr>\n    <tr>\n      <th>27540</th>\n      <td>Яндекс.Еда и Лавка</td>\n      <td>2023 1 30</td>\n      <td>8075.79</td>\n      <td>0</td>\n      <td>0</td>\n    </tr>\n    <tr>\n      <th>27541</th>\n      <td>Яндекс.Еда и Лавка</td>\n      <td>2023 1 31</td>\n      <td>8169.34</td>\n      <td>1</td>\n      <td>0</td>\n    </tr>\n  </tbody>\n</table>\n<p>27542 rows × 5 columns</p>\n</div>"
     },
     "execution_count": 60,
     "metadata": {},
     "output_type": "execute_result"
    }
   ],
   "source": [
    "# Получает на вход год, месяц, день и возвращает день недели в виде его номера\n",
    "def get_weekday(year, month, day):\n",
    "    return datetime.date(year, month, day).weekday()\n",
    "\n",
    "# Получает на вход строку вида \"YYYY-MM-DD hh:mm:ss\" и возвращает year, month, day\n",
    "def get_date(date_string):\n",
    "    date = str(date_string).split(' ')[0]\n",
    "    year, month, day = map(int, date.split('-'))\n",
    "    return year, month, day\n",
    "\n",
    "# Переведи стоец day формата \"YYYY-MM-DD hh:mm:ss\" в столбец с результатом get_date, но в виде строки через пробел\n",
    "df['day'] = df['day'].apply(lambda x : ' '.join(list(map(str, get_date(x)))))\n",
    "df['weekday'] = df['day'].apply(lambda x : get_weekday(*map(int, x.split(' '))))\n",
    "df['is_weekend'] = df['weekday'].apply(lambda x : 1 if x in [5, 6] else 0)\n",
    "df"
   ],
   "metadata": {
    "collapsed": false,
    "ExecuteTime": {
     "end_time": "2024-02-23T20:07:09.760709Z",
     "start_time": "2024-02-23T20:07:09.644796Z"
    }
   },
   "id": "f71c7efde41bb228",
   "execution_count": 60
  },
  {
   "cell_type": "code",
   "outputs": [],
   "source": [],
   "metadata": {
    "collapsed": false,
    "ExecuteTime": {
     "end_time": "2024-02-23T20:07:09.764124Z",
     "start_time": "2024-02-23T20:07:09.761719Z"
    }
   },
   "id": "13f0cfcdf6474641",
   "execution_count": 60
  }
 ],
 "metadata": {
  "kernelspec": {
   "display_name": "Python 3",
   "language": "python",
   "name": "python3"
  },
  "language_info": {
   "codemirror_mode": {
    "name": "ipython",
    "version": 2
   },
   "file_extension": ".py",
   "mimetype": "text/x-python",
   "name": "python",
   "nbconvert_exporter": "python",
   "pygments_lexer": "ipython2",
   "version": "2.7.6"
  }
 },
 "nbformat": 4,
 "nbformat_minor": 5
}
