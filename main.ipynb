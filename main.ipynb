{
 "cells": [
  {
   "cell_type": "code",
   "execution_count": 21,
   "id": "initial_id",
   "metadata": {
    "collapsed": true,
    "ExecuteTime": {
     "end_time": "2024-02-23T20:44:01.909713Z",
     "start_time": "2024-02-23T20:44:01.905759Z"
    }
   },
   "outputs": [],
   "source": [
    "# Импортируем библиотеки\n",
    "import pandas as pd\n",
    "import datetime\n",
    "import matplotlib.pyplot as plt\n",
    "import seaborn as sns"
   ]
  },
  {
   "cell_type": "code",
   "outputs": [],
   "source": [
    "# Считываем данные из файла\n",
    "df = pd.read_excel('data.xlsx')"
   ],
   "metadata": {
    "collapsed": false,
    "ExecuteTime": {
     "end_time": "2024-02-23T20:44:05.019422Z",
     "start_time": "2024-02-23T20:44:03.609812Z"
    }
   },
   "id": "344dcdd72c7f090d",
   "execution_count": 22
  },
  {
   "cell_type": "code",
   "outputs": [
    {
     "data": {
      "text/plain": "    merchant_name                  day  cashback\n0      1С Интерес  2022-01-21 00:00:00    240.53\n1      1С Интерес  2022-01-22 00:00:00    399.21\n2      1С Интерес  2022-01-23 00:00:00    385.44\n3      1С Интерес  2022-01-24 00:00:00    209.48\n4      1С Интерес  2022-01-25 00:00:00    361.80\n..            ...                  ...       ...\n198  Delta Sirius  2022-01-08 00:00:00    842.06\n199  Delta Sirius  2022-01-09 00:00:00   1924.45\n200  Delta Sirius  2022-01-10 00:00:00   1897.88\n201  Delta Sirius  2022-01-11 00:00:00   3418.17\n202  Delta Sirius  2022-01-12 00:00:00   3507.82\n\n[200 rows x 3 columns]",
      "text/html": "<div>\n<style scoped>\n    .dataframe tbody tr th:only-of-type {\n        vertical-align: middle;\n    }\n\n    .dataframe tbody tr th {\n        vertical-align: top;\n    }\n\n    .dataframe thead th {\n        text-align: right;\n    }\n</style>\n<table border=\"1\" class=\"dataframe\">\n  <thead>\n    <tr style=\"text-align: right;\">\n      <th></th>\n      <th>merchant_name</th>\n      <th>day</th>\n      <th>cashback</th>\n    </tr>\n  </thead>\n  <tbody>\n    <tr>\n      <th>0</th>\n      <td>1С Интерес</td>\n      <td>2022-01-21 00:00:00</td>\n      <td>240.53</td>\n    </tr>\n    <tr>\n      <th>1</th>\n      <td>1С Интерес</td>\n      <td>2022-01-22 00:00:00</td>\n      <td>399.21</td>\n    </tr>\n    <tr>\n      <th>2</th>\n      <td>1С Интерес</td>\n      <td>2022-01-23 00:00:00</td>\n      <td>385.44</td>\n    </tr>\n    <tr>\n      <th>3</th>\n      <td>1С Интерес</td>\n      <td>2022-01-24 00:00:00</td>\n      <td>209.48</td>\n    </tr>\n    <tr>\n      <th>4</th>\n      <td>1С Интерес</td>\n      <td>2022-01-25 00:00:00</td>\n      <td>361.80</td>\n    </tr>\n    <tr>\n      <th>...</th>\n      <td>...</td>\n      <td>...</td>\n      <td>...</td>\n    </tr>\n    <tr>\n      <th>198</th>\n      <td>Delta Sirius</td>\n      <td>2022-01-08 00:00:00</td>\n      <td>842.06</td>\n    </tr>\n    <tr>\n      <th>199</th>\n      <td>Delta Sirius</td>\n      <td>2022-01-09 00:00:00</td>\n      <td>1924.45</td>\n    </tr>\n    <tr>\n      <th>200</th>\n      <td>Delta Sirius</td>\n      <td>2022-01-10 00:00:00</td>\n      <td>1897.88</td>\n    </tr>\n    <tr>\n      <th>201</th>\n      <td>Delta Sirius</td>\n      <td>2022-01-11 00:00:00</td>\n      <td>3418.17</td>\n    </tr>\n    <tr>\n      <th>202</th>\n      <td>Delta Sirius</td>\n      <td>2022-01-12 00:00:00</td>\n      <td>3507.82</td>\n    </tr>\n  </tbody>\n</table>\n<p>200 rows × 3 columns</p>\n</div>"
     },
     "execution_count": 23,
     "metadata": {},
     "output_type": "execute_result"
    }
   ],
   "source": [
    "# Удаляем месяц, так как он не несет никакой информации\n",
    "df = df.drop('month', axis=1)\n",
    "\n",
    "# Удалим строки с merchant_name, которое встречается меньше 5 раз в df\n",
    "df = df.groupby('merchant_name').filter(lambda x : len(x) > 5)\n",
    "df.head(200)"
   ],
   "metadata": {
    "collapsed": false,
    "ExecuteTime": {
     "end_time": "2024-02-23T20:44:05.863190Z",
     "start_time": "2024-02-23T20:44:05.830775Z"
    }
   },
   "id": "441bc5df278dd588",
   "execution_count": 23
  },
  {
   "cell_type": "code",
   "outputs": [],
   "source": [
    "# Получает на вход год, месяц, день и возвращает день недели в виде его номера\n",
    "def get_weekday(year, month, day):\n",
    "    return datetime.date(year, month, day).weekday()\n",
    "\n",
    "# Получает на вход строку вида \"YYYY-MM-DD hh:mm:ss\" и возвращает year, month, day\n",
    "def get_date(date_string):\n",
    "    date = str(date_string).split(' ')[0]\n",
    "    year, month, day = map(int, date.split('-'))\n",
    "    return month, day\n",
    "\n",
    "# Переведем столбец day формата \"YYYY-MM-DD hh:mm:ss\" в столбец с результатом get_date\n",
    "df['day'] = df['day'].apply(lambda x : '.'.join(list(map(str, get_date(x)))))\n",
    "df['weekday'] = df['day'].apply(lambda x : get_weekday(2022, *map(int, x.split('.'))))\n",
    "df['is_weekend'] = df['weekday'].apply(lambda x : 1 if x in [5, 6] else 0)"
   ],
   "metadata": {
    "collapsed": false,
    "ExecuteTime": {
     "end_time": "2024-02-23T20:44:07.135542Z",
     "start_time": "2024-02-23T20:44:07.036959Z"
    }
   },
   "id": "f71c7efde41bb228",
   "execution_count": 24
  },
  {
   "cell_type": "code",
   "outputs": [],
   "source": [
    "# Для каждого значения merchant_name построим график cashback\n",
    "for merchant_name in df['merchant_name'].unique():\n",
    "    sns.lineplot(data=df[df['merchant_name'] == merchant_name], x='day', y='cashback')\n",
    "    plt.title(merchant_name)\n",
    "    plt.savefig(f'graphs/{merchant_name.replace('*', ' ')}.png')\n",
    "    plt.close()"
   ],
   "metadata": {
    "collapsed": false,
    "ExecuteTime": {
     "end_time": "2024-02-23T20:47:19.565039Z",
     "start_time": "2024-02-23T20:44:11.232519Z"
    }
   },
   "id": "13f0cfcdf6474641",
   "execution_count": 25
  },
  {
   "cell_type": "code",
   "outputs": [],
   "source": [
    "# Сохраним df в xlsx файл для дальнейшего использования\n",
    "df.to_excel('data.xlsx', index=False)"
   ],
   "metadata": {
    "collapsed": false,
    "ExecuteTime": {
     "start_time": "2024-02-23T20:43:41.836820Z"
    }
   },
   "id": "ce9d9d06296edccb",
   "execution_count": null
  }
 ],
 "metadata": {
  "kernelspec": {
   "display_name": "Python 3",
   "language": "python",
   "name": "python3"
  },
  "language_info": {
   "codemirror_mode": {
    "name": "ipython",
    "version": 2
   },
   "file_extension": ".py",
   "mimetype": "text/x-python",
   "name": "python",
   "nbconvert_exporter": "python",
   "pygments_lexer": "ipython2",
   "version": "2.7.6"
  }
 },
 "nbformat": 4,
 "nbformat_minor": 5
}
