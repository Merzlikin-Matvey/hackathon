{
 "cells": [
  {
   "cell_type": "code",
   "outputs": [],
   "source": [
    "# Импортируем библиотеки\n",
    "import pandas as pd\n",
    "import datetime"
   ],
   "metadata": {
    "collapsed": true,
    "ExecuteTime": {
     "end_time": "2024-02-24T19:10:09.910579Z",
     "start_time": "2024-02-24T19:10:09.907438Z"
    }
   },
   "id": "initial_id",
   "execution_count": 32
  },
  {
   "cell_type": "code",
   "outputs": [],
   "source": [
    "# Считываем данные из файла\n",
    "df = pd.read_excel('data/data.xlsx')"
   ],
   "metadata": {
    "collapsed": false,
    "ExecuteTime": {
     "end_time": "2024-02-24T19:10:11.602635Z",
     "start_time": "2024-02-24T19:10:09.925574Z"
    }
   },
   "id": "344dcdd72c7f090d",
   "execution_count": 33
  },
  {
   "cell_type": "code",
   "outputs": [],
   "source": [
    "# Отсортируем данные по именам и возрастании даты\n",
    "df = df.sort_values(by=['merchant_name', 'day'])"
   ],
   "metadata": {
    "collapsed": false,
    "ExecuteTime": {
     "end_time": "2024-02-24T19:10:11.614496Z",
     "start_time": "2024-02-24T19:10:11.603635Z"
    }
   },
   "id": "d38f6bbb262a6903",
   "execution_count": 34
  },
  {
   "cell_type": "code",
   "outputs": [],
   "source": [
    "# Удаляем месяц, так как он не несет никакой информации\n",
    "df = df.drop('month', axis=1)\n",
    "\n",
    "# Удалим строки с merchant_name, которое встречается меньше 6 раз в df\n",
    "df = df.groupby('merchant_name').filter(lambda x : len(x) > 5)"
   ],
   "metadata": {
    "collapsed": false,
    "ExecuteTime": {
     "end_time": "2024-02-24T19:10:11.640519Z",
     "start_time": "2024-02-24T19:10:11.615495Z"
    }
   },
   "id": "441bc5df278dd588",
   "execution_count": 35
  },
  {
   "cell_type": "code",
   "outputs": [],
   "source": [
    "# Получает на вход дату и возвращает день недели в виде его номера\n",
    "def get_weekday(date):\n",
    "    date = datetime.date(*map(int, str(str(date).split()[0]).split('-')))\n",
    "    return date.weekday()\n",
    "\n",
    "# Функция принимает на вход 2 даты и возвращает разницу между ними в днях\n",
    "def get_days_diff(date1, date2):\n",
    "    date1 = datetime.date(*map(int, str(str(date1).split()[0]).split('-')))\n",
    "    date2 = datetime.date(*map(int, str(str(date2).split()[0]).split('-')))\n",
    "    return (date2 - date1).days\n",
    "\n",
    "# Функция принимает на вход дату и возвращает следующий день\n",
    "def get_next_day(date):\n",
    "    date = datetime.date(*map(int, str(str(date).split()[0]).split('-')))\n",
    "    return str(date + datetime.timedelta(days=1))\n",
    "\n",
    "# Введем новые параметры\n",
    "df['weekday'] = df['day'].apply(get_weekday) \n",
    "df['is_weekend'] = df['weekday'].apply(lambda x : 1 if x in [5, 6] else 0)"
   ],
   "metadata": {
    "collapsed": false,
    "ExecuteTime": {
     "end_time": "2024-02-24T19:10:11.699038Z",
     "start_time": "2024-02-24T19:10:11.641517Z"
    }
   },
   "id": "f71c7efde41bb228",
   "execution_count": 36
  },
  {
   "cell_type": "code",
   "outputs": [],
   "source": [
    "# Если между двумя строками разница 2 дня, то добавим строку между ними с пропущенными значениями\n",
    "for i in range(len(df) - 1):\n",
    "    if get_days_diff(df.iloc[i]['day'], df.iloc[i + 1]['day']) == 2:\n",
    "        df = df._append({\n",
    "            'merchant_name' : df.iloc[i]['merchant_name'], \n",
    "            'day' : get_next_day(df.iloc[i]['day']),\n",
    "            'cashback' : (df.iloc[i]['cashback'] + df.iloc[i + 1]['cashback']) / 2, \n",
    "            'weekday' : get_weekday(get_next_day(df.iloc[i]['day'])),\n",
    "            'is_weekend' : 1 if get_weekday(get_next_day(df.iloc[i]['day'])) in [5, 6] else 0},\n",
    "            ignore_index=True)\n",
    "\n",
    "# Отсортируем данные по именам и возрастании даты\n",
    "df = df.sort_values(by=['merchant_name', 'day'])"
   ],
   "metadata": {
    "collapsed": false,
    "ExecuteTime": {
     "end_time": "2024-02-24T19:10:16.005179Z",
     "start_time": "2024-02-24T19:10:11.700039Z"
    }
   },
   "id": "6b469953cbc469e9",
   "execution_count": 37
  },
  {
   "cell_type": "code",
   "outputs": [
    {
     "data": {
      "text/plain": "\"\\nfor merchant_name in df['merchant_name'].unique():\\n    sns.lineplot(data=df[df['merchant_name'] == merchant_name], x='day', y='cashback')\\n    plt.title(merchant_name)\\n    plt.savefig(f'graphs/{merchant_name.replace('*', ' ')}.png')\\n    plt.close()\\n\""
     },
     "execution_count": 38,
     "metadata": {},
     "output_type": "execute_result"
    }
   ],
   "source": [
    "# Для каждого значения merchant_name построим график cashback\n",
    "'''\n",
    "for merchant_name in df['merchant_name'].unique():\n",
    "    sns.lineplot(data=df[df['merchant_name'] == merchant_name], x='day', y='cashback')\n",
    "    plt.title(merchant_name)\n",
    "    plt.savefig(f'graphs/{merchant_name.replace('*', ' ')}.png')\n",
    "    plt.close()\n",
    "'''"
   ],
   "metadata": {
    "collapsed": false,
    "ExecuteTime": {
     "end_time": "2024-02-24T19:10:16.010777Z",
     "start_time": "2024-02-24T19:10:16.006172Z"
    }
   },
   "id": "13f0cfcdf6474641",
   "execution_count": 38
  },
  {
   "cell_type": "code",
   "outputs": [],
   "source": [
    "# Сохраним df как clear_data.xlsx  \n",
    "\n",
    "df.to_excel('data/clear_data.xlsx', index=False) \n"
   ],
   "metadata": {
    "collapsed": false,
    "ExecuteTime": {
     "end_time": "2024-02-24T19:10:19.473030Z",
     "start_time": "2024-02-24T19:10:16.011779Z"
    }
   },
   "id": "4e9ea32bb9aa5ec2",
   "execution_count": 39
  }
 ],
 "metadata": {
  "kernelspec": {
   "display_name": "Python 3",
   "language": "python",
   "name": "python3"
  },
  "language_info": {
   "codemirror_mode": {
    "name": "ipython",
    "version": 2
   },
   "file_extension": ".py",
   "mimetype": "text/x-python",
   "name": "python",
   "nbconvert_exporter": "python",
   "pygments_lexer": "ipython2",
   "version": "2.7.6"
  }
 },
 "nbformat": 4,
 "nbformat_minor": 5
}
