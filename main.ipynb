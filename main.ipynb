{
 "cells": [
  {
   "cell_type": "code",
   "outputs": [],
   "source": [
    "# Импортируем библиотеки\n",
    "import pandas as pd\n",
    "import datetime\n",
    "import os\n",
    "import warnings\n",
    "\n",
    "warnings.filterwarnings(\"ignore\")"
   ],
   "metadata": {
    "collapsed": true,
    "ExecuteTime": {
     "end_time": "2024-02-24T20:41:06.903358Z",
     "start_time": "2024-02-24T20:41:06.900281Z"
    }
   },
   "id": "initial_id",
   "execution_count": 1
  },
  {
   "cell_type": "code",
   "outputs": [],
   "source": [
    "# Считываем данные из файла\n",
    "df = pd.read_excel('data/data.xlsx')"
   ],
   "metadata": {
    "collapsed": false,
    "ExecuteTime": {
     "end_time": "2024-02-24T20:41:08.756156Z",
     "start_time": "2024-02-24T20:41:06.904368Z"
    }
   },
   "id": "344dcdd72c7f090d",
   "execution_count": 2
  },
  {
   "cell_type": "code",
   "outputs": [],
   "source": [
    "# Отсортируем данные по именам и возрастании даты\n",
    "df = df.sort_values(by=['merchant_name', 'day'])"
   ],
   "metadata": {
    "collapsed": false,
    "ExecuteTime": {
     "end_time": "2024-02-24T20:41:08.768680Z",
     "start_time": "2024-02-24T20:41:08.757159Z"
    }
   },
   "id": "d38f6bbb262a6903",
   "execution_count": 3
  },
  {
   "cell_type": "code",
   "outputs": [],
   "source": [
    "# Удаляем месяц, так как он не несет никакой информации\n",
    "df = df.drop('month', axis=1)\n",
    "\n",
    "# Удалим строки с merchant_name, которое встречается меньше 6 раз в df\n",
    "df = df.groupby('merchant_name').filter(lambda x : len(x) > 5)"
   ],
   "metadata": {
    "collapsed": false,
    "ExecuteTime": {
     "end_time": "2024-02-24T20:41:08.924846Z",
     "start_time": "2024-02-24T20:41:08.770198Z"
    }
   },
   "id": "441bc5df278dd588",
   "execution_count": 4
  },
  {
   "cell_type": "code",
   "outputs": [],
   "source": [
    "# Получает на вход дату и возвращает день недели в виде его номера\n",
    "def get_weekday(date):\n",
    "    date = datetime.date(*map(int, str(str(date).split()[0]).split('-')))\n",
    "    return date.weekday()\n",
    "\n",
    "# Функция принимает на вход 2 даты и возвращает разницу между ними в днях\n",
    "def get_days_diff(date1, date2):\n",
    "    date1 = datetime.date(*map(int, str(str(date1).split()[0]).split('-')))\n",
    "    date2 = datetime.date(*map(int, str(str(date2).split()[0]).split('-')))\n",
    "    return (date2 - date1).days\n",
    "\n",
    "# Функция принимает на вход дату и возвращает следующий день\n",
    "def get_next_day(date):\n",
    "    date = datetime.date(*map(int, str(str(date).split()[0]).split('-')))\n",
    "    return str(date + datetime.timedelta(days=1))\n",
    "\n",
    "\n",
    "# Введем новые параметры\n",
    "df['day'] = pd.to_datetime(df['day'])\n",
    "df['weekday'] = df['day'].apply(get_weekday) \n",
    "df['is_weekend'] = df['weekday'].apply(lambda x : 1 if x in [5, 6] else 0)"
   ],
   "metadata": {
    "collapsed": false,
    "ExecuteTime": {
     "end_time": "2024-02-24T20:41:09.083144Z",
     "start_time": "2024-02-24T20:41:08.925855Z"
    }
   },
   "id": "f71c7efde41bb228",
   "execution_count": 5
  },
  {
   "cell_type": "code",
   "outputs": [],
   "source": [
    "# Сохраняем обработанные данные\n",
    "file_path = 'data/clear_data.xlsx'\n",
    "if os.path.exists(file_path):\n",
    "    try:\n",
    "        os.remove(file_path)  # Удаляем файл, если он существует\n",
    "        df.to_excel(file_path, index=False)\n",
    "    except PermissionError:\n",
    "        print('Закройте файл clear_data.xlsx')\n",
    "else:\n",
    "    df.to_excel(file_path, index=False)\n"
   ],
   "metadata": {
    "collapsed": false,
    "ExecuteTime": {
     "end_time": "2024-02-24T20:41:12.985469Z",
     "start_time": "2024-02-24T20:41:09.084154Z"
    }
   },
   "id": "4e9ea32bb9aa5ec2",
   "execution_count": 6
  }
 ],
 "metadata": {
  "kernelspec": {
   "display_name": "Python 3",
   "language": "python",
   "name": "python3"
  },
  "language_info": {
   "codemirror_mode": {
    "name": "ipython",
    "version": 2
   },
   "file_extension": ".py",
   "mimetype": "text/x-python",
   "name": "python",
   "nbconvert_exporter": "python",
   "pygments_lexer": "ipython2",
   "version": "2.7.6"
  }
 },
 "nbformat": 4,
 "nbformat_minor": 5
}
