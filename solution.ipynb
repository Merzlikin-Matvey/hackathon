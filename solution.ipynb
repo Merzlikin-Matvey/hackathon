{
 "cells": [
  {
   "cell_type": "code",
   "execution_count": 138,
   "id": "initial_id",
   "metadata": {
    "collapsed": true,
    "ExecuteTime": {
     "end_time": "2024-02-26T17:57:17.205032Z",
     "start_time": "2024-02-26T17:57:17.201653Z"
    }
   },
   "outputs": [],
   "source": [
    "import json\n",
    "import pandas as pd\n",
    "import numpy as np\n",
    "from statsmodels.tsa.stattools import adfuller\n",
    "import prophet\n",
    "import warnings\n",
    "\n",
    "warnings.filterwarnings(\"ignore\")"
   ]
  },
  {
   "cell_type": "code",
   "outputs": [],
   "source": [
    "# Экспоненциальное сглаживание\n",
    "def exponential_smoothing(series, alpha):\n",
    "    result = [series[0]]\n",
    "    for n in range(1, len(series)):\n",
    "        result.append(alpha * series[n] + (1 - alpha) * result[n - 1])\n",
    "    return result\n",
    "\n",
    "# Получим первое число месяца\n",
    "def get_first_day_of_month(date):\n",
    "    return date.replace(day=1)"
   ],
   "metadata": {
    "collapsed": false,
    "ExecuteTime": {
     "end_time": "2024-02-26T17:57:17.211762Z",
     "start_time": "2024-02-26T17:57:17.207024Z"
    }
   },
   "id": "b25b9077ea68c314",
   "execution_count": 139
  },
  {
   "cell_type": "code",
   "outputs": [],
   "source": [
    "# Получим все даты с 2022-01-01 до 2023-01-31 во время 00:00:00 (например 2022-01-01 00:00:00)\n",
    "def get_all_dates():\n",
    "    dates = pd.date_range(start='2022-01-01 00:00:00', end='2023-01-31 00:00:00')\n",
    "    return dates\n",
    "\n",
    "# Получим первое число месяца в виде datetime.datetime\n",
    "\n"
   ],
   "metadata": {
    "collapsed": false,
    "ExecuteTime": {
     "end_time": "2024-02-26T17:57:17.217770Z",
     "start_time": "2024-02-26T17:57:17.212754Z"
    }
   },
   "id": "db73895ea2f9a5a9",
   "execution_count": 140
  },
  {
   "cell_type": "code",
   "outputs": [],
   "source": [
    "# Скользящее среднее\n",
    "def rolling_mean(series, value):\n",
    "    return series.rolling(window=value).mean()"
   ],
   "metadata": {
    "collapsed": false,
    "ExecuteTime": {
     "end_time": "2024-02-26T17:57:17.223502Z",
     "start_time": "2024-02-26T17:57:17.219766Z"
    }
   },
   "id": "aedde3fca8df9b5e",
   "execution_count": 141
  },
  {
   "cell_type": "code",
   "outputs": [],
   "source": [
    "def make_series(df,\n",
    "                category,\n",
    "                is_exponential_smoothing=False,\n",
    "                alpha=0.25,\n",
    "                is_rolling_mean=False,\n",
    "                rolling_value=20\n",
    "                ):\n",
    "\n",
    "    if isinstance(category, str):\n",
    "        category = [category]\n",
    "\n",
    "    # Выделим нужные данные\n",
    "    data = df[df['category'].isin(category)]\n",
    "    # Оставим только дату и нормированный кешбек\n",
    "    data = data[['day', 'normalized_cashback']]\n",
    "\n",
    "    # Получим все даты с 01.01.2022 по 01.01.2023\n",
    "    dates = list(map(str, get_all_dates()))\n",
    "\n",
    "    values = []\n",
    "    for date in dates:\n",
    "        # Если дата есть в данных, то добавим значение кешбека\n",
    "        if date in data['day'].values:\n",
    "            temp = data[data['day'] == date]['normalized_cashback'].values\n",
    "\n",
    "        # Иначе добавим 0\n",
    "        else:\n",
    "            temp = np.array([0])\n",
    "\n",
    "        values.append(np.mean(temp))\n",
    "\n",
    "    values = np.array(values)\n",
    "\n",
    "    if is_exponential_smoothing:\n",
    "        values = exponential_smoothing(values, alpha)\n",
    "    elif is_rolling_mean:\n",
    "        values= rolling_mean(values, rolling_value)\n",
    "    return values\n"
   ],
   "metadata": {
    "collapsed": false,
    "ExecuteTime": {
     "end_time": "2024-02-26T17:57:17.231560Z",
     "start_time": "2024-02-26T17:57:17.225397Z"
    }
   },
   "id": "79ee7ea7d1fb468e",
   "execution_count": 142
  },
  {
   "cell_type": "code",
   "outputs": [],
   "source": [
    "# Тест Дики-Фуллера на стационарность\n",
    "def test_stationarity(timeseries):\n",
    "    timeseries = pd.Series(timeseries)\n",
    "\n",
    "    print('Results of Dickey-Fuller Test:')\n",
    "    dftest = adfuller(timeseries, autolag='AIC')\n",
    "    dfoutput = pd.Series(dftest[0:4], index=['Test Statistic', 'p-value', '#Lags Used', 'Number of Observations Used'])\n",
    "    for key, value in dftest[4].items():\n",
    "        dfoutput['Critical Value (%s)' % key] = value\n",
    "\n",
    "    return dfoutput['p-value']"
   ],
   "metadata": {
    "collapsed": false,
    "ExecuteTime": {
     "end_time": "2024-02-26T17:57:17.237632Z",
     "start_time": "2024-02-26T17:57:17.233563Z"
    }
   },
   "id": "2db830e9dd5b7087",
   "execution_count": 143
  },
  {
   "cell_type": "code",
   "outputs": [],
   "source": [
    "# Получим предсказания\n",
    "def get_predictions(data, predictions):\n",
    "    df = pd.DataFrame({'ds': get_all_dates(), 'y': data})\n",
    "    model = prophet.Prophet()\n",
    "    model.add_seasonality(name='monthly', period=300, fourier_order=50)\n",
    "    model.fit(df)\n",
    "\n",
    "    future = model.make_future_dataframe(periods=predictions, freq='D')\n",
    "    forecast = model.predict(future)\n",
    "\n",
    "    df_forecast = pd.DataFrame({'ds': forecast['ds'], 'y': forecast['yhat']})\n",
    "    df_forecast['ds'] = pd.to_datetime(df_forecast['ds'])\n",
    "    \n",
    "\n",
    "    df_forecast = df_forecast[df_forecast['ds'] >= '2023-02-08']\n",
    "    return df_forecast\n",
    "        \n"
   ],
   "metadata": {
    "collapsed": false,
    "ExecuteTime": {
     "end_time": "2024-02-26T17:57:17.244729Z",
     "start_time": "2024-02-26T17:57:17.238627Z"
    }
   },
   "id": "e51d58a3a7a12679",
   "execution_count": 144
  },
  {
   "cell_type": "code",
   "outputs": [],
   "source": [
    "def denormalize(value, mean, std):\n",
    "    return round(value * std + mean, 2)"
   ],
   "metadata": {
    "collapsed": false,
    "ExecuteTime": {
     "end_time": "2024-02-26T17:57:17.258622Z",
     "start_time": "2024-02-26T17:57:17.255430Z"
    }
   },
   "id": "53dbf1edcf60badc",
   "execution_count": 145
  },
  {
   "cell_type": "code",
   "outputs": [],
   "source": [
    "# Загрузим данные\n",
    "ans_df = pd.read_csv('tasks/merch_cb_hack_8_9.csv')\n",
    "ans_df['day'] = pd.to_datetime(ans_df['day'])\n",
    "df = pd.read_csv('data.csv')\n",
    "\n",
    "with open('test_categories.json', 'r', encoding=\"utf-8\") as file:\n",
    "    categories = json.load(file)\n",
    "\n",
    "organisations = ans_df['merchant_name'].unique()"
   ],
   "metadata": {
    "collapsed": false,
    "ExecuteTime": {
     "end_time": "2024-02-26T17:57:17.312937Z",
     "start_time": "2024-02-26T17:57:17.259610Z"
    }
   },
   "id": "7941d26cc845515c",
   "execution_count": 146
  },
  {
   "cell_type": "code",
   "outputs": [
    {
     "name": "stderr",
     "output_type": "stream",
     "text": [
      "20:57:17 - cmdstanpy - INFO - Chain [1] start processing\n",
      "20:57:17 - cmdstanpy - INFO - Chain [1] done processing\n",
      "20:57:18 - cmdstanpy - INFO - Chain [1] start processing\n",
      "20:57:18 - cmdstanpy - INFO - Chain [1] done processing\n",
      "20:57:18 - cmdstanpy - INFO - Chain [1] start processing\n",
      "20:57:19 - cmdstanpy - INFO - Chain [1] done processing\n",
      "20:57:19 - cmdstanpy - INFO - Chain [1] start processing\n",
      "20:57:19 - cmdstanpy - INFO - Chain [1] done processing\n",
      "20:57:20 - cmdstanpy - INFO - Chain [1] start processing\n",
      "20:57:20 - cmdstanpy - INFO - Chain [1] done processing\n",
      "20:57:20 - cmdstanpy - INFO - Chain [1] start processing\n",
      "20:57:21 - cmdstanpy - INFO - Chain [1] done processing\n",
      "20:57:21 - cmdstanpy - INFO - Chain [1] start processing\n",
      "20:57:21 - cmdstanpy - INFO - Chain [1] done processing\n",
      "20:57:22 - cmdstanpy - INFO - Chain [1] start processing\n",
      "20:57:22 - cmdstanpy - INFO - Chain [1] done processing\n",
      "20:57:22 - cmdstanpy - INFO - Chain [1] start processing\n",
      "20:57:22 - cmdstanpy - INFO - Chain [1] done processing\n",
      "20:57:23 - cmdstanpy - INFO - Chain [1] start processing\n",
      "20:57:23 - cmdstanpy - INFO - Chain [1] done processing\n"
     ]
    }
   ],
   "source": [
    "# Получим предсказания\n",
    "for organisation in organisations:\n",
    "    series = make_series(df, categories[organisation], is_exponential_smoothing=True, alpha=0.2)\n",
    "    predictions = get_predictions(series, 28)\n",
    "    \n",
    "    # Получим среднее и стандратное отклонение organisation из ans_df\n",
    "    mean = ans_df[ans_df['merchant_name'] == organisation]['cashback'].mean()\n",
    "    std = ans_df[ans_df['merchant_name'] == organisation]['cashback'].std()\n",
    "    \n",
    "    for date in predictions['ds']:\n",
    "        if date not in ans_df[ans_df['merchant_name'] == organisation]['day'].values:\n",
    "            ans_df = ans_df._append(\n",
    "                {'merchant_name': organisation, \n",
    "                 'day': date, \n",
    "                 'month': get_first_day_of_month(date),\n",
    "                 'cashback': denormalize(predictions[predictions['ds'] == date]['y'].values[0], mean, std)},\n",
    "                ignore_index=True)\n",
    "\n",
    "# Отсортируем данные по именам и возрастании даты\n",
    "ans_df = ans_df.sort_values(by=['merchant_name', 'day'])"
   ],
   "metadata": {
    "collapsed": false,
    "ExecuteTime": {
     "end_time": "2024-02-26T17:57:23.631933Z",
     "start_time": "2024-02-26T17:57:17.313934Z"
    }
   },
   "id": "fbec68cad36653bf",
   "execution_count": 147
  },
  {
   "cell_type": "code",
   "outputs": [],
   "source": [
    "# Сохраним результат\n",
    "ans_df.to_csv('ans.csv', index=False)"
   ],
   "metadata": {
    "collapsed": false,
    "ExecuteTime": {
     "end_time": "2024-02-26T17:57:23.640752Z",
     "start_time": "2024-02-26T17:57:23.633231Z"
    }
   },
   "id": "9bbd3a1c2d09c73a",
   "execution_count": 148
  }
 ],
 "metadata": {
  "kernelspec": {
   "display_name": "Python 3",
   "language": "python",
   "name": "python3"
  },
  "language_info": {
   "codemirror_mode": {
    "name": "ipython",
    "version": 2
   },
   "file_extension": ".py",
   "mimetype": "text/x-python",
   "name": "python",
   "nbconvert_exporter": "python",
   "pygments_lexer": "ipython2",
   "version": "2.7.6"
  }
 },
 "nbformat": 4,
 "nbformat_minor": 5
}
