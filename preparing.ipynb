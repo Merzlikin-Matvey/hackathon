{
 "cells": [
  {
   "cell_type": "code",
   "execution_count": 66,
   "id": "initial_id",
   "metadata": {
    "collapsed": true,
    "ExecuteTime": {
     "end_time": "2024-02-25T21:36:43.421400Z",
     "start_time": "2024-02-25T21:36:43.417610Z"
    }
   },
   "outputs": [],
   "source": [
    "# Импортируем библиотеки \n",
    "import os\n",
    "import json\n",
    "\n",
    "import pandas as pd\n",
    "import requests\n",
    "from bs4 import BeautifulSoup as BS"
   ]
  },
  {
   "cell_type": "code",
   "outputs": [],
   "source": [
    "# Отметим необходимые пути\n",
    "task_path = 'tasks/Merch_CB_hack.csv'\n",
    "test_path = 'tasks/merch_cb_hack_8_9.csv'"
   ],
   "metadata": {
    "collapsed": false,
    "ExecuteTime": {
     "end_time": "2024-02-25T21:36:43.425637Z",
     "start_time": "2024-02-25T21:36:43.422414Z"
    }
   },
   "id": "c74641ad415da736",
   "execution_count": 67
  },
  {
   "cell_type": "code",
   "outputs": [],
   "source": [
    "# Пофиксим файл с данными\n",
    "with open(task_path, 'r', encoding='utf-8') as file:\n",
    "    file_content = file.read()\n",
    "if ', интернет' in file_content:\n",
    "    file_content = file_content.replace(', интернет', ' интернет')\n",
    "    with open(task_path, 'w', encoding='utf-8') as file:\n",
    "        file.write(file_content)\n",
    "    "
   ],
   "metadata": {
    "collapsed": false,
    "ExecuteTime": {
     "end_time": "2024-02-25T21:36:43.441246Z",
     "start_time": "2024-02-25T21:36:43.429649Z"
    }
   },
   "id": "784d09e04162f1ed",
   "execution_count": 68
  },
  {
   "cell_type": "code",
   "outputs": [],
   "source": [
    "# Прочитаем данные\n",
    "df = pd.read_csv(task_path, sep=',', encoding='utf-8')"
   ],
   "metadata": {
    "collapsed": false,
    "ExecuteTime": {
     "end_time": "2024-02-25T21:36:43.466088Z",
     "start_time": "2024-02-25T21:36:43.442255Z"
    }
   },
   "id": "3c51c8c27ad1c88f",
   "execution_count": 69
  },
  {
   "cell_type": "code",
   "outputs": [],
   "source": [
    "# Отсортируем данные по именам и возрастании даты\n",
    "df = df.sort_values(by=['merchant_name', 'day'])"
   ],
   "metadata": {
    "collapsed": false,
    "ExecuteTime": {
     "end_time": "2024-02-25T21:36:43.477375Z",
     "start_time": "2024-02-25T21:36:43.467096Z"
    }
   },
   "id": "d2a922eaca385540",
   "execution_count": 70
  },
  {
   "cell_type": "code",
   "outputs": [],
   "source": [
    "# Удаляем месяц, так как он не несет никакой информации\n",
    "df = df.drop('month', axis=1)"
   ],
   "metadata": {
    "collapsed": false,
    "ExecuteTime": {
     "end_time": "2024-02-25T21:36:43.483128Z",
     "start_time": "2024-02-25T21:36:43.478385Z"
    }
   },
   "id": "b7bb684e2be3934f",
   "execution_count": 71
  },
  {
   "cell_type": "code",
   "outputs": [],
   "source": [
    "# Удалим строки с merchant_name, которое встречается меньше 7 раз в df\n",
    "df = df.groupby('merchant_name').filter(lambda x : len(x) > 6)"
   ],
   "metadata": {
    "collapsed": false,
    "ExecuteTime": {
     "end_time": "2024-02-25T21:36:43.506553Z",
     "start_time": "2024-02-25T21:36:43.484137Z"
    }
   },
   "id": "7812cae2ebc9307a",
   "execution_count": 72
  },
  {
   "cell_type": "code",
   "outputs": [],
   "source": [
    "# Построим функцию z-нормализации\n",
    "def z_normalization(x, mean, std):\n",
    "    return (x - mean) / std\n",
    "\n",
    "# И обратную функцию\n",
    "def z_reverse(x, mean, std):\n",
    "    return x * std + mean"
   ],
   "metadata": {
    "collapsed": false,
    "ExecuteTime": {
     "end_time": "2024-02-25T21:36:43.511084Z",
     "start_time": "2024-02-25T21:36:43.507562Z"
    }
   },
   "id": "831445b7cbf9c274",
   "execution_count": 73
  },
  {
   "cell_type": "code",
   "outputs": [],
   "source": [
    "# Для каждого merchant_name найдем среднее и стандартное отклонение cashback \n",
    "mean_cashback = df.groupby('merchant_name')['cashback'].mean()\n",
    "std_cashback = df.groupby('merchant_name')['cashback'].std()\n",
    "\n",
    "# И запишем в виде словаря\n",
    "cashback_func = {}\n",
    "for merchant_name in df['merchant_name'].unique():\n",
    "    cashback_func[merchant_name] = (mean_cashback[merchant_name], std_cashback[merchant_name])"
   ],
   "metadata": {
    "collapsed": false,
    "ExecuteTime": {
     "end_time": "2024-02-25T21:36:43.526199Z",
     "start_time": "2024-02-25T21:36:43.512093Z"
    }
   },
   "id": "f89edab56a563ad",
   "execution_count": 74
  },
  {
   "cell_type": "code",
   "outputs": [],
   "source": [
    "# Добавим в датасет нормализованное значение cashback\n",
    "df['normalized_cashback'] = df.apply(lambda row: z_normalization(row['cashback'], cashback_func[row['merchant_name']][0], cashback_func[row['merchant_name']][1]), axis=1)"
   ],
   "metadata": {
    "collapsed": false,
    "ExecuteTime": {
     "end_time": "2024-02-25T21:36:43.819022Z",
     "start_time": "2024-02-25T21:36:43.527206Z"
    }
   },
   "id": "8af9a9fb291c1d47",
   "execution_count": 75
  },
  {
   "cell_type": "code",
   "outputs": [],
   "source": [
    "# Построим функцию для поиска MCC кода\n",
    "def parse_mcc(organisation):\n",
    "    request = requests.get(f'https://mcc-codes.ru/search/?q={'+'.join(organisation.split())}')"
   ],
   "metadata": {
    "collapsed": false,
    "ExecuteTime": {
     "end_time": "2024-02-25T21:36:43.823339Z",
     "start_time": "2024-02-25T21:36:43.820030Z"
    }
   },
   "id": "16927fd7fb85031a",
   "execution_count": 76
  },
  {
   "cell_type": "code",
   "outputs": [],
   "source": [
    "# Сохраним датасет\n",
    "if os.path.exists('data.csv'):\n",
    "    os.remove('data.csv')\n",
    "df.to_csv('data.csv', index=False, encoding='utf-8')"
   ],
   "metadata": {
    "collapsed": false,
    "ExecuteTime": {
     "end_time": "2024-02-25T21:36:43.913144Z",
     "start_time": "2024-02-25T21:36:43.825351Z"
    }
   },
   "id": "e692936f1c9f4e28",
   "execution_count": 77
  }
 ],
 "metadata": {
  "kernelspec": {
   "display_name": "Python 3",
   "language": "python",
   "name": "python3"
  },
  "language_info": {
   "codemirror_mode": {
    "name": "ipython",
    "version": 2
   },
   "file_extension": ".py",
   "mimetype": "text/x-python",
   "name": "python",
   "nbconvert_exporter": "python",
   "pygments_lexer": "ipython2",
   "version": "2.7.6"
  }
 },
 "nbformat": 4,
 "nbformat_minor": 5
}
