{
 "cells": [
  {
   "cell_type": "code",
   "execution_count": 8,
   "id": "initial_id",
   "metadata": {
    "collapsed": true,
    "ExecuteTime": {
     "end_time": "2024-02-24T09:15:59.509675Z",
     "start_time": "2024-02-24T09:15:59.503748Z"
    }
   },
   "outputs": [],
   "source": [
    "import pandas as pd\n",
    "from helpful import *"
   ]
  },
  {
   "cell_type": "code",
   "outputs": [],
   "source": [
    "# Загружаем обработанные данные\n",
    "df = pd.read_excel('data/data.xlsx')"
   ],
   "metadata": {
    "collapsed": false,
    "ExecuteTime": {
     "end_time": "2024-02-24T09:16:00.790961Z",
     "start_time": "2024-02-24T09:15:59.511056Z"
    }
   },
   "id": "e5886b7d425edb36",
   "execution_count": 9
  },
  {
   "cell_type": "code",
   "outputs": [],
   "source": [
    "# Для каждого значения merchant_name находим максимум и минимум cashback в виде словаря {название : [min, max]}\n",
    "minimax = {}\n",
    "for merchant in df['merchant_name'].unique():\n",
    "    minimax[merchant] = [df[df['merchant_name'] == merchant]['cashback'].min(), df[df['merchant_name'] == merchant]['cashback'].max()]\n"
   ],
   "metadata": {
    "collapsed": false,
    "ExecuteTime": {
     "end_time": "2024-02-24T09:16:03.327565Z",
     "start_time": "2024-02-24T09:16:00.793492Z"
    }
   },
   "id": "3bff4a725d006433",
   "execution_count": 10
  },
  {
   "cell_type": "code",
   "outputs": [
    {
     "name": "stderr",
     "output_type": "stream",
     "text": [
      "C:\\Users\\merzl\\AppData\\Local\\Temp\\ipykernel_9904\\4210774801.py:5: SettingWithCopyWarning: \n",
      "A value is trying to be set on a copy of a slice from a DataFrame\n",
      "\n",
      "See the caveats in the documentation: https://pandas.pydata.org/pandas-docs/stable/user_guide/indexing.html#returning-a-view-versus-a-copy\n",
      "  transformed.loc[i]['cashback'] = minimax[transformed.loc[i]['merchant_name']][0]\n"
     ]
    }
   ],
   "source": [
    "# Данные после трансформации\n",
    "\n",
    "transformed = df.copy()\n",
    "for i in range(10):\n",
    "    transformed.loc[i]['cashback'] = minimax[transformed.loc[i]['merchant_name']][0]"
   ],
   "metadata": {
    "collapsed": false,
    "ExecuteTime": {
     "end_time": "2024-02-24T09:21:00.974671Z",
     "start_time": "2024-02-24T09:21:00.964374Z"
    }
   },
   "id": "ab6d9b77167e2314",
   "execution_count": 23
  },
  {
   "cell_type": "code",
   "outputs": [
    {
     "data": {
      "text/plain": "            merchant_name                  day                month  cashback\n0              1С Интерес  2022-01-21 00:00:00  2022-01-01 00:00:00  0.071747\n1              1С Интерес  2022-01-22 00:00:00  2022-01-01 00:00:00  0.148351\n2              1С Интерес  2022-01-23 00:00:00  2022-01-01 00:00:00  0.141703\n3              1С Интерес  2022-01-24 00:00:00  2022-01-01 00:00:00  0.056758\n4              1С Интерес  2022-01-25 00:00:00  2022-01-01 00:00:00  0.130291\n...                   ...                  ...                  ...       ...\n27537  Яндекс.Еда и Лавка  2023-01-27 00:00:00  2023-01-01 00:00:00  0.369006\n27538  Яндекс.Еда и Лавка  2023-01-28 00:00:00  2023-01-01 00:00:00  0.464632\n27539  Яндекс.Еда и Лавка  2023-01-29 00:00:00  2023-01-01 00:00:00  0.350585\n27540  Яндекс.Еда и Лавка  2023-01-30 00:00:00  2023-01-01 00:00:00  0.206159\n27541  Яндекс.Еда и Лавка  2023-01-31 00:00:00  2023-01-01 00:00:00  0.208752\n\n[27542 rows x 4 columns]",
      "text/html": "<div>\n<style scoped>\n    .dataframe tbody tr th:only-of-type {\n        vertical-align: middle;\n    }\n\n    .dataframe tbody tr th {\n        vertical-align: top;\n    }\n\n    .dataframe thead th {\n        text-align: right;\n    }\n</style>\n<table border=\"1\" class=\"dataframe\">\n  <thead>\n    <tr style=\"text-align: right;\">\n      <th></th>\n      <th>merchant_name</th>\n      <th>day</th>\n      <th>month</th>\n      <th>cashback</th>\n    </tr>\n  </thead>\n  <tbody>\n    <tr>\n      <th>0</th>\n      <td>1С Интерес</td>\n      <td>2022-01-21 00:00:00</td>\n      <td>2022-01-01 00:00:00</td>\n      <td>0.071747</td>\n    </tr>\n    <tr>\n      <th>1</th>\n      <td>1С Интерес</td>\n      <td>2022-01-22 00:00:00</td>\n      <td>2022-01-01 00:00:00</td>\n      <td>0.148351</td>\n    </tr>\n    <tr>\n      <th>2</th>\n      <td>1С Интерес</td>\n      <td>2022-01-23 00:00:00</td>\n      <td>2022-01-01 00:00:00</td>\n      <td>0.141703</td>\n    </tr>\n    <tr>\n      <th>3</th>\n      <td>1С Интерес</td>\n      <td>2022-01-24 00:00:00</td>\n      <td>2022-01-01 00:00:00</td>\n      <td>0.056758</td>\n    </tr>\n    <tr>\n      <th>4</th>\n      <td>1С Интерес</td>\n      <td>2022-01-25 00:00:00</td>\n      <td>2022-01-01 00:00:00</td>\n      <td>0.130291</td>\n    </tr>\n    <tr>\n      <th>...</th>\n      <td>...</td>\n      <td>...</td>\n      <td>...</td>\n      <td>...</td>\n    </tr>\n    <tr>\n      <th>27537</th>\n      <td>Яндекс.Еда и Лавка</td>\n      <td>2023-01-27 00:00:00</td>\n      <td>2023-01-01 00:00:00</td>\n      <td>0.369006</td>\n    </tr>\n    <tr>\n      <th>27538</th>\n      <td>Яндекс.Еда и Лавка</td>\n      <td>2023-01-28 00:00:00</td>\n      <td>2023-01-01 00:00:00</td>\n      <td>0.464632</td>\n    </tr>\n    <tr>\n      <th>27539</th>\n      <td>Яндекс.Еда и Лавка</td>\n      <td>2023-01-29 00:00:00</td>\n      <td>2023-01-01 00:00:00</td>\n      <td>0.350585</td>\n    </tr>\n    <tr>\n      <th>27540</th>\n      <td>Яндекс.Еда и Лавка</td>\n      <td>2023-01-30 00:00:00</td>\n      <td>2023-01-01 00:00:00</td>\n      <td>0.206159</td>\n    </tr>\n    <tr>\n      <th>27541</th>\n      <td>Яндекс.Еда и Лавка</td>\n      <td>2023-01-31 00:00:00</td>\n      <td>2023-01-01 00:00:00</td>\n      <td>0.208752</td>\n    </tr>\n  </tbody>\n</table>\n<p>27542 rows × 4 columns</p>\n</div>"
     },
     "execution_count": 12,
     "metadata": {},
     "output_type": "execute_result"
    }
   ],
   "source": [
    "transformed"
   ],
   "metadata": {
    "collapsed": false,
    "ExecuteTime": {
     "end_time": "2024-02-24T09:16:10.541190Z",
     "start_time": "2024-02-24T09:16:10.526274Z"
    }
   },
   "id": "116e7b1455db16da",
   "execution_count": 12
  }
 ],
 "metadata": {
  "kernelspec": {
   "display_name": "Python 3",
   "language": "python",
   "name": "python3"
  },
  "language_info": {
   "codemirror_mode": {
    "name": "ipython",
    "version": 2
   },
   "file_extension": ".py",
   "mimetype": "text/x-python",
   "name": "python",
   "nbconvert_exporter": "python",
   "pygments_lexer": "ipython2",
   "version": "2.7.6"
  }
 },
 "nbformat": 4,
 "nbformat_minor": 5
}
