{
 "cells": [
  {
   "cell_type": "code",
   "execution_count": 17,
   "id": "initial_id",
   "metadata": {
    "collapsed": true,
    "ExecuteTime": {
     "end_time": "2024-02-24T19:07:49.151298Z",
     "start_time": "2024-02-24T19:07:49.148121Z"
    }
   },
   "outputs": [],
   "source": [
    "import pandas as pd "
   ]
  },
  {
   "cell_type": "code",
   "outputs": [],
   "source": [
    "# Загружаем обработанные данные\n",
    "df = pd.read_excel('data/clear_data.xlsx')"
   ],
   "metadata": {
    "collapsed": false,
    "ExecuteTime": {
     "end_time": "2024-02-24T19:07:50.974910Z",
     "start_time": "2024-02-24T19:07:49.152309Z"
    }
   },
   "id": "e5886b7d425edb36",
   "execution_count": 18
  },
  {
   "cell_type": "code",
   "outputs": [],
   "source": [
    "# Построим функцию, которая получает значение, средние и стандартное отклонение и возвращает значение в после нормализации\n",
    "def normalize_value(value, mean, std):\n",
    "    return (value - mean) / std\n",
    "\n",
    "# Построим функцию, которая получает значение, средние и стандартное отклонение и возвращает значение в после денормализации\n",
    "def denormalize_value(value, mean, std):\n",
    "    return value * std + mean"
   ],
   "metadata": {
    "collapsed": false,
    "ExecuteTime": {
     "end_time": "2024-02-24T19:07:50.979909Z",
     "start_time": "2024-02-24T19:07:50.975910Z"
    }
   },
   "id": "108639aaf555ed96",
   "execution_count": 19
  },
  {
   "cell_type": "code",
   "outputs": [],
   "source": [
    "# Для каждого merchant_name найдем среднее и стандартное отклонение cashback \n",
    "mean_cashback = df.groupby('merchant_name')['cashback'].mean()\n",
    "std_cashback = df.groupby('merchant_name')['cashback'].std()\n",
    "\n",
    "# И запишем в видео словаря\n",
    "cashback_mean_std = {}\n",
    "for merchant_name in df['merchant_name'].unique():\n",
    "    cashback_mean_std[merchant_name] = (mean_cashback[merchant_name], std_cashback[merchant_name])"
   ],
   "metadata": {
    "collapsed": false,
    "ExecuteTime": {
     "end_time": "2024-02-24T19:07:50.996833Z",
     "start_time": "2024-02-24T19:07:50.981911Z"
    }
   },
   "id": "cdff5d36a95a81da",
   "execution_count": 20
  },
  {
   "cell_type": "code",
   "outputs": [],
   "source": [
    "# СДобавим в датасет нормализованное значение cashback\n",
    "df['cashback_norm'] = df.apply(lambda row: normalize_value(row['cashback'], cashback_mean_std[row['merchant_name']][0], cashback_mean_std[row['merchant_name']][1]), axis=1)"
   ],
   "metadata": {
    "collapsed": false,
    "ExecuteTime": {
     "end_time": "2024-02-24T19:07:51.304134Z",
     "start_time": "2024-02-24T19:07:50.997834Z"
    }
   },
   "id": "27bd67905105de4a",
   "execution_count": 21
  },
  {
   "cell_type": "code",
   "outputs": [],
   "source": [
    "# Сохраним обработанные данные\n",
    "df.to_excel('data/normalized_data.xlsx', index=False)"
   ],
   "metadata": {
    "collapsed": false,
    "ExecuteTime": {
     "end_time": "2024-02-24T19:07:55.542195Z",
     "start_time": "2024-02-24T19:07:51.305135Z"
    }
   },
   "id": "ef4831d648f42733",
   "execution_count": 22
  }
 ],
 "metadata": {
  "kernelspec": {
   "display_name": "Python 3",
   "language": "python",
   "name": "python3"
  },
  "language_info": {
   "codemirror_mode": {
    "name": "ipython",
    "version": 2
   },
   "file_extension": ".py",
   "mimetype": "text/x-python",
   "name": "python",
   "nbconvert_exporter": "python",
   "pygments_lexer": "ipython2",
   "version": "2.7.6"
  }
 },
 "nbformat": 4,
 "nbformat_minor": 5
}
