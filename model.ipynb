{
 "cells": [
  {
   "cell_type": "code",
   "execution_count": 154,
   "id": "initial_id",
   "metadata": {
    "collapsed": true,
    "ExecuteTime": {
     "end_time": "2024-02-24T22:03:55.669025Z",
     "start_time": "2024-02-24T22:03:55.664928Z"
    }
   },
   "outputs": [],
   "source": [
    "# Импортируем библиотеки\n",
    "import pandas as pd\n",
    "import datetime\n",
    "import os\n",
    "import warnings\n",
    "\n",
    "warnings.filterwarnings(\"ignore\")"
   ]
  },
  {
   "cell_type": "code",
   "outputs": [],
   "source": [
    "# Соберем нужные данные\n",
    "df = pd.read_excel('data/normalized_data.xlsx')\n",
    "series = make_series(df, 'Фастфуд', True)\n",
    "dates = get_all_dates()"
   ],
   "metadata": {
    "collapsed": false
   },
   "id": "f8aaac10e6fee605"
  }
 ],
 "metadata": {
  "kernelspec": {
   "display_name": "Python 3",
   "language": "python",
   "name": "python3"
  },
  "language_info": {
   "codemirror_mode": {
    "name": "ipython",
    "version": 2
   },
   "file_extension": ".py",
   "mimetype": "text/x-python",
   "name": "python",
   "nbconvert_exporter": "python",
   "pygments_lexer": "ipython2",
   "version": "2.7.6"
  }
 },
 "nbformat": 4,
 "nbformat_minor": 5
}
