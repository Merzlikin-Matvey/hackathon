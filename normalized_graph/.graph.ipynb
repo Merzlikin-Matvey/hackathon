{
 "cells": [
  {
   "cell_type": "code",
   "execution_count": 29,
   "id": "initial_id",
   "metadata": {
    "collapsed": true,
    "ExecuteTime": {
     "end_time": "2024-02-24T20:37:00.517279Z",
     "start_time": "2024-02-24T20:37:00.512364Z"
    }
   },
   "outputs": [],
   "source": [
    "import pandas as pd\n",
    "import matplotlib.pyplot as plt \n",
    "import seaborn as sns\n",
    "import warnings\n",
    "\n",
    "warnings.filterwarnings(\"ignore\")"
   ]
  },
  {
   "cell_type": "code",
   "outputs": [],
   "source": [
    "# Загружаем нормированные данные\n",
    "df = pd.read_excel('../data/normalized_data.xlsx')"
   ],
   "metadata": {
    "collapsed": false,
    "ExecuteTime": {
     "end_time": "2024-02-24T20:37:03.645320Z",
     "start_time": "2024-02-24T20:37:00.519293Z"
    }
   },
   "id": "161d0913a8dc847d",
   "execution_count": 30
  },
  {
   "cell_type": "code",
   "outputs": [],
   "source": [
    "for merchant_name in df['merchant_name'].unique():\n",
    "    temp_df = df[df[\"merchant_name\"] == merchant_name]\n",
    "    temp_df['day'] = pd.to_datetime(temp_df['day'])\n",
    "    temp_df.set_index('day', inplace=True)\n",
    "\n",
    "    df_daily = temp_df['cashback_norm'].resample('D').sum().fillna(0)\n",
    "    plt.figure(figsize=(10,6))\n",
    "    plt.plot(df_daily.index, df_daily.values)\n",
    "\n",
    "    plt.title(merchant_name)\n",
    "    plt.xlabel('Date')\n",
    "    plt.ylabel('Normalized cashback')\n",
    "\n",
    "    plt.savefig(f'{merchant_name.replace('*', ' ')}.png')\n",
    "    plt.close()"
   ],
   "metadata": {
    "collapsed": false,
    "ExecuteTime": {
     "end_time": "2024-02-24T20:38:38.148479Z",
     "start_time": "2024-02-24T20:37:03.646316Z"
    }
   },
   "id": "884265d37791465e",
   "execution_count": 31
  },
  {
   "cell_type": "code",
   "outputs": [],
   "source": [],
   "metadata": {
    "collapsed": false,
    "ExecuteTime": {
     "end_time": "2024-02-24T20:38:38.151455Z",
     "start_time": "2024-02-24T20:38:38.149478Z"
    }
   },
   "id": "4ce985c043123fe1",
   "execution_count": 31
  }
 ],
 "metadata": {
  "kernelspec": {
   "display_name": "Python 3",
   "language": "python",
   "name": "python3"
  },
  "language_info": {
   "codemirror_mode": {
    "name": "ipython",
    "version": 2
   },
   "file_extension": ".py",
   "mimetype": "text/x-python",
   "name": "python",
   "nbconvert_exporter": "python",
   "pygments_lexer": "ipython2",
   "version": "2.7.6"
  }
 },
 "nbformat": 4,
 "nbformat_minor": 5
}
